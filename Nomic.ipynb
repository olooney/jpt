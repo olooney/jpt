{
 "cells": [
  {
   "cell_type": "code",
   "execution_count": 1,
   "id": "0b1917b0-bd9f-4a9e-83c8-9c43b38242ce",
   "metadata": {},
   "outputs": [],
   "source": [
    "import ollama\n",
    "import numpy as np\n",
    "import jpt\n",
    "from typing import List, Union\n",
    "from jpt import load_jeopardy_dataset"
   ]
  },
  {
   "cell_type": "code",
   "execution_count": 2,
   "id": "34b89a43-4a6a-4bc4-89a0-faa5d6fa980b",
   "metadata": {},
   "outputs": [],
   "source": [
    "jeopardy_data = load_jeopardy_dataset()"
   ]
  },
  {
   "cell_type": "code",
   "execution_count": 3,
   "id": "d5278aae-334b-4de9-8e74-b0721c691901",
   "metadata": {},
   "outputs": [
    {
     "name": "stdout",
     "output_type": "stream",
     "text": [
      "29.1 ms ± 12.6 ms per loop (mean ± std. dev. of 3 runs, 3 loops each)\n"
     ]
    }
   ],
   "source": [
    "%%timeit -n 3 -r 3\n",
    "\n",
    "e = ollama.embeddings(\n",
    "    model='nomic-embed-text',\n",
    "    prompt='Llamas are members of the camelid family',\n",
    ")\n",
    "v = e['embedding']\n",
    "np.array(v).shape"
   ]
  },
  {
   "cell_type": "code",
   "execution_count": 4,
   "id": "ee7c5482-6651-4288-afdc-5d07b23fe43a",
   "metadata": {},
   "outputs": [],
   "source": [
    "@jpt.retry_decorator\n",
    "def nomic_embed(chunk):\n",
    "    response = ollama.embeddings(\n",
    "        model='nomic-embed-text',\n",
    "        prompt=chunk\n",
    "    )\n",
    "    embedding_vector = np.array(response['embedding'], dtype='float32')\n",
    "    return embedding_vector\n"
   ]
  },
  {
   "cell_type": "code",
   "execution_count": 5,
   "id": "cb55eaf7-bb52-4d98-a555-353c0b4c63cb",
   "metadata": {},
   "outputs": [],
   "source": [
    "def nomic_embeddings(chunks: List[str]) -> np.ndarray:\n",
    "    n = len(chunks)\n",
    "    m = 768\n",
    "    database = np.zeros(shape=(n, m), dtype='float32')\n",
    "    \n",
    "    for index, chunk in enumerate(chunks):\n",
    "        database[index, :] = nomic_embed(chunk)\n",
    "\n",
    "    return database"
   ]
  },
  {
   "cell_type": "code",
   "execution_count": 6,
   "id": "6a4a991a-4804-4a7f-8dc5-19065045cf07",
   "metadata": {},
   "outputs": [
    {
     "name": "stdout",
     "output_type": "stream",
     "text": [
      "(10, 768)\n"
     ]
    }
   ],
   "source": [
    "movie_titles = [\n",
    "    \"The Shawshank Redemption\",\n",
    "    \"The Godfather\",\n",
    "    \"The Dark Knight\",\n",
    "    \"Pulp Fiction\",\n",
    "    \"Schindler's List\",\n",
    "    \"The Lord of the Rings: The Return of the King\",\n",
    "    \"Inception\",\n",
    "    \"Fight Club\",\n",
    "    \"Forrest Gump\",\n",
    "    \"The Matrix\"\n",
    "]\n",
    "\n",
    "movie_database = nomic_embeddings(movie_titles)\n",
    "print(movie_database.shape)"
   ]
  },
  {
   "cell_type": "code",
   "execution_count": 8,
   "id": "bc2cc40f-4886-4c85-b6da-1445b6afdf5f",
   "metadata": {},
   "outputs": [],
   "source": [
    "jeopardy_chunk_template = '''JEOPARDY QUESTION:\n",
    "category: {category!r}\n",
    "clue: {question}\n",
    "correct response: {answer!r}'''\n",
    "\n",
    "jeopardy_chunks = [ jeopardy_chunk_template.format(**q) for q in  jeopardy_data ]"
   ]
  },
  {
   "cell_type": "code",
   "execution_count": 10,
   "id": "367901f6-a5a3-439a-86f9-6492e4be12f7",
   "metadata": {},
   "outputs": [],
   "source": [
    "def compute_embeddings():\n",
    "    global jeopardy_nomic_embeddings\n",
    "    jeopardy_nomic_embeddings = nomic_embeddings(jeopardy_chunks)"
   ]
  },
  {
   "cell_type": "code",
   "execution_count": 11,
   "id": "8e9718aa-99ac-4fa6-b377-cba81db5959c",
   "metadata": {},
   "outputs": [
    {
     "name": "stdout",
     "output_type": "stream",
     "text": [
      "54min 40s ± 0 ns per loop (mean ± std. dev. of 1 run, 1 loop each)\n"
     ]
    }
   ],
   "source": [
    "%%timeit -n 1 -r 1\n",
    "compute_embeddings()"
   ]
  },
  {
   "cell_type": "code",
   "execution_count": 12,
   "id": "dc2e72fe-9d9c-4787-bba1-01ae7e56dd2c",
   "metadata": {},
   "outputs": [
    {
     "data": {
      "text/plain": [
       "(216930, 768)"
      ]
     },
     "execution_count": 12,
     "metadata": {},
     "output_type": "execute_result"
    }
   ],
   "source": [
    "jeopardy_nomic_embeddings.shape"
   ]
  },
  {
   "cell_type": "code",
   "execution_count": 13,
   "id": "5da3d00e-eee3-4301-8a70-078d6a1aa90f",
   "metadata": {},
   "outputs": [
    {
     "data": {
      "text/plain": [
       "666408960"
      ]
     },
     "execution_count": 13,
     "metadata": {},
     "output_type": "execute_result"
    }
   ],
   "source": [
    "from util import total_size\n",
    "total_size(jeopardy_nomic_embeddings)"
   ]
  },
  {
   "cell_type": "code",
   "execution_count": null,
   "id": "c600cdaf-891a-4bbb-a1fb-17a39eb303a5",
   "metadata": {},
   "outputs": [],
   "source": []
  }
 ],
 "metadata": {
  "kernelspec": {
   "display_name": "Python 3 (ipykernel)",
   "language": "python",
   "name": "python3"
  },
  "language_info": {
   "codemirror_mode": {
    "name": "ipython",
    "version": 3
   },
   "file_extension": ".py",
   "mimetype": "text/x-python",
   "name": "python",
   "nbconvert_exporter": "python",
   "pygments_lexer": "ipython3",
   "version": "3.12.3"
  }
 },
 "nbformat": 4,
 "nbformat_minor": 5
}
