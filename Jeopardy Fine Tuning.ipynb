{
 "cells": [
  {
   "cell_type": "code",
   "execution_count": 1,
   "id": "020462c9-cf45-4306-a729-80e50a09fde4",
   "metadata": {},
   "outputs": [],
   "source": [
    "import json\n",
    "import os\n",
    "import sys\n",
    "import random\n",
    "import jpt"
   ]
  },
  {
   "cell_type": "code",
   "execution_count": 2,
   "id": "7bbac4a9-7b89-4a12-b04e-b2aabc603a5c",
   "metadata": {},
   "outputs": [],
   "source": [
    "jeopardy_data = jpt.load_jeopardy_dataset()"
   ]
  },
  {
   "cell_type": "code",
   "execution_count": 3,
   "id": "b7d58297-e965-4a6d-bd6a-a5af49e85c75",
   "metadata": {},
   "outputs": [
    {
     "name": "stdout",
     "output_type": "stream",
     "text": [
      "wrote 1000 lines to C:\\Users\\oloon\\Dropbox\\data\\jeopardy\\jeopardy_fine_tuning_sample_1000.jsonl\n",
      "wrote 10000 lines to C:\\Users\\oloon\\Dropbox\\data\\jeopardy\\jeopardy_fine_tuning_sample_10000.jsonl\n",
      "wrote 50000 lines to C:\\Users\\oloon\\Dropbox\\data\\jeopardy\\jeopardy_fine_tuning_sample_50000.jsonl\n"
     ]
    }
   ],
   "source": [
    "for sample_size in [ 1000, 10_000, 50_000 ]:\n",
    "    jpt.generate_fine_tuning_data(jeopardy_data, sample_size, verbose=True)"
   ]
  },
  {
   "cell_type": "code",
   "execution_count": null,
   "id": "e7c1f3df-434c-46b4-a674-4bd9650c6675",
   "metadata": {},
   "outputs": [],
   "source": []
  }
 ],
 "metadata": {
  "kernelspec": {
   "display_name": "Python 3 (ipykernel)",
   "language": "python",
   "name": "python3"
  },
  "language_info": {
   "codemirror_mode": {
    "name": "ipython",
    "version": 3
   },
   "file_extension": ".py",
   "mimetype": "text/x-python",
   "name": "python",
   "nbconvert_exporter": "python",
   "pygments_lexer": "ipython3",
   "version": "3.12.3"
  }
 },
 "nbformat": 4,
 "nbformat_minor": 5
}
