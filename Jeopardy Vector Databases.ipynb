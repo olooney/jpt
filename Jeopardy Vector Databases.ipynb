{
 "cells": [
  {
   "cell_type": "code",
   "execution_count": 1,
   "id": "b54aac25-14bc-4dbc-b9d8-87ef3ef8f1d4",
   "metadata": {},
   "outputs": [],
   "source": [
    "import openai\n",
    "import json\n",
    "import tenacity\n",
    "from typing import List\n",
    "\n",
    "import joblib\n",
    "\n",
    "import random\n",
    "import math\n",
    "import numpy as np\n",
    "import pandas as pd\n",
    "import matplotlib.pyplot as plt\n",
    "\n",
    "from scipy.spatial.distance import cosine\n",
    "from numpy import dot\n",
    "from numpy.linalg import norm\n",
    "\n",
    "import logging\n",
    "import sys\n",
    "\n",
    "from util import Credentials, TemporarySeed, total_size\n",
    "import random"
   ]
  },
  {
   "cell_type": "code",
   "execution_count": 2,
   "id": "76ffd1c7-ed45-4de0-b4c2-16d64b446757",
   "metadata": {},
   "outputs": [],
   "source": [
    "%load_ext autoreload\n",
    "%autoreload 2"
   ]
  },
  {
   "cell_type": "code",
   "execution_count": 3,
   "id": "0c53144f-41ef-4585-af54-82576fce914b",
   "metadata": {},
   "outputs": [],
   "source": [
    "pd.set_option('display.max_colwidth', None)\n",
    "\n",
    "logging.basicConfig(stream=sys.stderr, level=logging.ERROR)\n",
    "logger = logging.getLogger(__name__)"
   ]
  },
  {
   "cell_type": "code",
   "execution_count": 4,
   "id": "ef962136-45b1-47a9-b178-ffedb8e4bd30",
   "metadata": {},
   "outputs": [],
   "source": [
    "credentials = Credentials.load('openai_credentials.yaml')\n",
    "client = openai.OpenAI(\n",
    "    organization=credentials.organization, \n",
    "    api_key=credentials.api_key\n",
    ")"
   ]
  },
  {
   "cell_type": "code",
   "execution_count": 5,
   "id": "2ee4f5ae-2f0c-4df2-b968-e8511e603fa3",
   "metadata": {},
   "outputs": [],
   "source": [
    "@tenacity.retry(\n",
    "    wait=tenacity.wait_exponential(min=0.1, max=10),\n",
    "    stop=tenacity.stop_after_attempt(3), # because 4 is too many and 2 isn't enough.\n",
    "    after=tenacity.after_log(logger, logging.ERROR),\n",
    "    reraise=True)\n",
    "def gpt(prompt):\n",
    "    chat_response = client.chat.completions.create(\n",
    "        model=\"gpt-3.5-turbo\",\n",
    "        messages=[\n",
    "            {\"role\": \"system\", \"content\": \"You are a helpful assistant.\"},\n",
    "            {\"role\": \"user\", \"content\": prompt}\n",
    "        ]\n",
    "    )\n",
    "    content = chat_response.choices[0].message.content\n",
    "    return content"
   ]
  },
  {
   "cell_type": "code",
   "execution_count": 6,
   "id": "80ac8981-f6bb-4d55-9d6b-4ec333ed3e8c",
   "metadata": {},
   "outputs": [
    {
     "data": {
      "text/plain": [
       "'Hello! How can I assist you today?'"
      ]
     },
     "execution_count": 6,
     "metadata": {},
     "output_type": "execute_result"
    }
   ],
   "source": [
    "gpt('sup, bro?')"
   ]
  },
  {
   "cell_type": "code",
   "execution_count": 7,
   "id": "093aaf1e-ceee-4ffc-af93-c647d40823b4",
   "metadata": {},
   "outputs": [],
   "source": [
    "with open(r'D:\\Dropbox\\data\\jeopardy\\jeopardy.json') as fin:\n",
    "    jeopardy_data = json.load(fin)"
   ]
  },
  {
   "cell_type": "code",
   "execution_count": 8,
   "id": "a712575e-156d-4e6c-ad6d-a02af4436b5d",
   "metadata": {},
   "outputs": [
    {
     "data": {
      "text/plain": [
       "{'category': 'BUSINESS & INDUSTRY',\n",
       " 'air_date': '1993-11-17',\n",
       " 'question': \"'In 1952 Kemmons Wilson opened the first motel in this chain, on the outskirts of Memphis'\",\n",
       " 'value': '$1,000',\n",
       " 'answer': 'Holiday Inn',\n",
       " 'round': 'Jeopardy!',\n",
       " 'show_number': '2118'}"
      ]
     },
     "execution_count": 8,
     "metadata": {},
     "output_type": "execute_result"
    }
   ],
   "source": [
    "def random_jeopardy_question():\n",
    "    return random.sample(jeopardy_data, 1)[0]\n",
    "\n",
    "q = random_jeopardy_question()\n",
    "q"
   ]
  },
  {
   "cell_type": "code",
   "execution_count": 9,
   "id": "333eae23-742f-441c-8d82-f713b955ecbf",
   "metadata": {},
   "outputs": [],
   "source": [
    "@tenacity.retry(\n",
    "    wait=tenacity.wait_exponential(min=0.1, max=10),\n",
    "    stop=tenacity.stop_after_attempt(3), # because 4 is too many and 2 isn't enough.\n",
    "    after=tenacity.after_log(logger, logging.ERROR),\n",
    "    reraise=True)\n",
    "def openai_embeddings_create(batch):\n",
    "    return client.embeddings.create(\n",
    "      model=\"text-embedding-ada-002\",\n",
    "      input=batch,\n",
    "      encoding_format=\"float\"\n",
    "    )\n",
    "\n",
    "def create_embeddings_database(chunks: List[str], batch_size=2048) -> np.ndarray:\n",
    "    database = None\n",
    "    n = len(chunks)\n",
    "    \n",
    "    for batch_index in range(0, n, batch_size):\n",
    "        # call the OpenAI embeddings API for each batch\n",
    "        batch = chunks[batch_index:batch_index+batch_size]\n",
    "        embedding_response = openai_embeddings_create(batch)\n",
    "        embeddings = embedding_response.data\n",
    "\n",
    "        # defer creation of the database until we know the embedding dimension\n",
    "        if database is None:\n",
    "            m = len(embeddings[0].embedding)    \n",
    "            database = np.zeros(shape=(n, m), dtype='float32')\n",
    "\n",
    "        # populate database\n",
    "        for i, embedding in enumerate(embeddings):\n",
    "            index = batch_index + i\n",
    "            database[index, :] = embedding.embedding\n",
    "\n",
    "    return database"
   ]
  },
  {
   "cell_type": "code",
   "execution_count": 10,
   "id": "aea8d935-ab19-4f5a-962d-892c0834fb93",
   "metadata": {},
   "outputs": [
    {
     "data": {
      "text/plain": [
       "(1536,)"
      ]
     },
     "execution_count": 10,
     "metadata": {},
     "output_type": "execute_result"
    }
   ],
   "source": [
    "def embed(chunk: str) -> np.ndarray:\n",
    "    db = create_embeddings_database([chunk])\n",
    "    return db[0]\n",
    "\n",
    "test_chunk = embed(\"The King and I\")\n",
    "test_chunk.shape"
   ]
  },
  {
   "cell_type": "code",
   "execution_count": 11,
   "id": "0b0b1b95-e4de-4cd3-af4c-923201a5c623",
   "metadata": {},
   "outputs": [
    {
     "name": "stdout",
     "output_type": "stream",
     "text": [
      "(10, 1536)\n"
     ]
    }
   ],
   "source": [
    "movie_titles = [\n",
    "    \"The Shawshank Redemption\",\n",
    "    \"The Godfather\",\n",
    "    \"The Dark Knight\",\n",
    "    \"Pulp Fiction\",\n",
    "    \"Schindler's List\",\n",
    "    \"The Lord of the Rings: The Return of the King\",\n",
    "    \"Inception\",\n",
    "    \"Fight Club\",\n",
    "    \"Forrest Gump\",\n",
    "    \"The Matrix\"\n",
    "]\n",
    "\n",
    "movie_database = create_embeddings_database(movie_titles, batch_size=3)\n",
    "print(movie_database.shape)"
   ]
  },
  {
   "cell_type": "code",
   "execution_count": 12,
   "id": "29987839-8d14-4af4-8bf7-24df15d86363",
   "metadata": {},
   "outputs": [
    {
     "data": {
      "text/plain": [
       "array([[-0.00141219, -0.04665427, -0.00372241],\n",
       "       [ 0.00115975, -0.02712612, -0.00477172],\n",
       "       [-0.01121753, -0.02616804, -0.01262515],\n",
       "       [-0.00022746, -0.02844045, -0.00606565],\n",
       "       [-0.02149398, -0.03689073, -0.01679297],\n",
       "       [-0.0089068 , -0.02844654, -0.02965169],\n",
       "       [ 0.00983392, -0.01453309, -0.01118691],\n",
       "       [-0.02976511, -0.03190778, -0.03022978],\n",
       "       [-0.01263725, -0.03492859,  0.00914044],\n",
       "       [-0.01052376, -0.02687083, -0.03023948]], dtype=float32)"
      ]
     },
     "execution_count": 12,
     "metadata": {},
     "output_type": "execute_result"
    }
   ],
   "source": [
    "movie_database[:, :3]"
   ]
  },
  {
   "cell_type": "code",
   "execution_count": 13,
   "id": "fe795079-9452-4c08-b1ea-8a78390d3465",
   "metadata": {},
   "outputs": [
    {
     "data": {
      "text/plain": [
       "True"
      ]
     },
     "execution_count": 13,
     "metadata": {},
     "output_type": "execute_result"
    }
   ],
   "source": [
    "np.allclose(norm(movie_database, axis=1), 1)"
   ]
  },
  {
   "cell_type": "code",
   "execution_count": 14,
   "id": "14b226dc-e824-4bc9-a571-bf558689c949",
   "metadata": {},
   "outputs": [],
   "source": [
    "def best_k(database: np.ndarray, query: np.ndarray, k: int = 5):\n",
    "    # Normalize the query vector\n",
    "    query = query / np.linalg.norm(query)\n",
    "    \n",
    "    # Compute cosine distances\n",
    "    distances = 1.0 - (database @ query)\n",
    "\n",
    "    # Find the indices of the k smallest distances\n",
    "    best_k_unsorted = np.argpartition(distances, k)[:k]\n",
    "\n",
    "    # Sort these indices by distance\n",
    "    sorted_indices = np.argsort(distances[best_k_unsorted])\n",
    "    best_k_sorted = best_k_unsorted[sorted_indices]\n",
    "    \n",
    "    return best_k_sorted\n"
   ]
  },
  {
   "cell_type": "code",
   "execution_count": 15,
   "id": "e66efd25-451f-4ca7-8ce7-ac3f5f153af8",
   "metadata": {},
   "outputs": [
    {
     "data": {
      "text/plain": [
       "array([5, 1, 9], dtype=int64)"
      ]
     },
     "execution_count": 15,
     "metadata": {},
     "output_type": "execute_result"
    }
   ],
   "source": [
    "best_k(movie_database, test_chunk, k=3)"
   ]
  },
  {
   "cell_type": "code",
   "execution_count": 16,
   "id": "61aa91ef-7153-411c-8d77-baaffc35c3da",
   "metadata": {},
   "outputs": [
    {
     "name": "stdout",
     "output_type": "stream",
     "text": [
      "[5 2 9]\n",
      "The Lord of the Rings: The Return of the King\n",
      "The Dark Knight\n",
      "The Matrix\n"
     ]
    }
   ],
   "source": [
    "top_k_indices = best_k(movie_database, embed(\"The Hobbit\"), k=3)\n",
    "print(top_k_indices)\n",
    "for index in top_k_indices:\n",
    "    print(movie_titles[index])"
   ]
  },
  {
   "cell_type": "code",
   "execution_count": 17,
   "id": "052e7bc8-5c36-4e50-a504-23cde33f0e36",
   "metadata": {},
   "outputs": [
    {
     "data": {
      "text/plain": [
       "(216930, list)"
      ]
     },
     "execution_count": 17,
     "metadata": {},
     "output_type": "execute_result"
    }
   ],
   "source": [
    "len(jeopardy_data), type(jeopardy_data)"
   ]
  },
  {
   "cell_type": "code",
   "execution_count": 18,
   "id": "08e81d63-dd13-4776-926b-b537831af7c3",
   "metadata": {},
   "outputs": [
    {
     "name": "stdout",
     "output_type": "stream",
     "text": [
      "100\n",
      "{'category': 'A FEW GENTLEMEN OF VERONA', 'air_date': '2007-12-07', 'question': \"'Verona-born tenor Nino Martini performed brilliantly at this NYC location from 1933 to 1946'\", 'value': '$1200', 'answer': 'the Metropolitan Opera', 'round': 'Double Jeopardy!', 'show_number': '5350'}\n"
     ]
    }
   ],
   "source": [
    "with TemporarySeed(42):\n",
    "    jeopardy_sample = random.sample(jeopardy_data, k=100)\n",
    "print(len(jeopardy_sample))\n",
    "print(jeopardy_sample[0])"
   ]
  },
  {
   "cell_type": "code",
   "execution_count": 19,
   "id": "34407c46-3311-43ad-b0ed-881a44fb85d2",
   "metadata": {},
   "outputs": [],
   "source": [
    "jeopardy_chunk_template = '''JEOPARDY QUESTION:\n",
    "category: {category!r}\n",
    "clue: {question}\n",
    "correct response: {answer!r}'''"
   ]
  },
  {
   "cell_type": "code",
   "execution_count": 20,
   "id": "d6ea0307-8cff-4193-bcac-115c74434cce",
   "metadata": {},
   "outputs": [
    {
     "name": "stdout",
     "output_type": "stream",
     "text": [
      "100\n",
      "JEOPARDY QUESTION:\n",
      "category: 'A FEW GENTLEMEN OF VERONA'\n",
      "clue: 'Verona-born tenor Nino Martini performed brilliantly at this NYC location from 1933 to 1946'\n",
      "correct response: 'the Metropolitan Opera'\n"
     ]
    }
   ],
   "source": [
    "jeopardy_sample_chunks = [ jeopardy_chunk_template.format(**q) for q in jeopardy_sample ]\n",
    "print(len(jeopardy_sample_chunks))\n",
    "print(jeopardy_sample_chunks[0])"
   ]
  },
  {
   "cell_type": "code",
   "execution_count": 21,
   "id": "a48c7e2b-55ac-45d0-a53b-b0cfb105c111",
   "metadata": {},
   "outputs": [],
   "source": [
    "jeopardy_sample_database = create_embeddings_database(jeopardy_sample_chunks)"
   ]
  },
  {
   "cell_type": "code",
   "execution_count": 22,
   "id": "a9f45175-5a59-4877-9a88-8e01a0c11a72",
   "metadata": {},
   "outputs": [
    {
     "name": "stdout",
     "output_type": "stream",
     "text": [
      "[42 38 14  0 82]\n",
      "JEOPARDY QUESTION:\n",
      "category: 'FILE UNDER \"A\"'\n",
      "clue: 'It's a violent dance performed by Parisian couples, not by American Indians, as its name implies'\n",
      "correct response: 'Apache Dance'\n",
      "\n",
      "JEOPARDY QUESTION:\n",
      "category: 'FROM CLASSICAL TUNES'\n",
      "clue: '1963 novelty song that used the \"Dance Of The Hours\" from \"La Gioconda\", heard <a href=\"http://www.j-archive.com/1998-02-17_DJ_21.mp3\">here</a>:'\n",
      "correct response: '\"Hello Muddah, Hello Fadduh (A Letter From Camp)\"'\n",
      "\n",
      "JEOPARDY QUESTION:\n",
      "category: 'DISNEY MOVIES'\n",
      "clue: 'With special sound equipment needed in the auditorium, this 1940 film was initially released in only 14 theaters'\n",
      "correct response: 'Fantasia'\n",
      "\n",
      "JEOPARDY QUESTION:\n",
      "category: 'A FEW GENTLEMEN OF VERONA'\n",
      "clue: 'Verona-born tenor Nino Martini performed brilliantly at this NYC location from 1933 to 1946'\n",
      "correct response: 'the Metropolitan Opera'\n",
      "\n",
      "JEOPARDY QUESTION:\n",
      "category: 'COMPOSERS & THEIR WORKS'\n",
      "clue: 'He wrote the score for the 1954 film \"On the Waterfront\" 3 years before his Broadway smash \"West Side Story\"'\n",
      "correct response: 'Leonard Bernstein'\n",
      "\n"
     ]
    }
   ],
   "source": [
    "top_k_indices = best_k(jeopardy_sample_database, embed(\"Jazz\"), k=5)\n",
    "print(top_k_indices)\n",
    "for index in top_k_indices:\n",
    "    print(jeopardy_sample_chunks[index])\n",
    "    print()"
   ]
  },
  {
   "cell_type": "code",
   "execution_count": 23,
   "id": "ad0a0346-737e-4a54-8829-b41727323f66",
   "metadata": {},
   "outputs": [],
   "source": [
    "# jeopardy_chunks = [ jeopardy_chunk_template.format(**q) for q in jeopardy_data ]\n",
    "# print(len(jeopardy_chunks))"
   ]
  },
  {
   "cell_type": "code",
   "execution_count": 24,
   "id": "b2b0882f-f4c6-4507-a1d3-c919a17c6d8b",
   "metadata": {},
   "outputs": [],
   "source": [
    "#jeopardy_database = create_embeddings_database(jeopardy_chunks)"
   ]
  },
  {
   "cell_type": "code",
   "execution_count": 25,
   "id": "df31cb18-442c-478e-8a36-1085bdf3c690",
   "metadata": {},
   "outputs": [],
   "source": [
    "# jeopardy_datafile = {\n",
    "#     'vdb': jeopardy_database, \n",
    "#     'chunks': jeopardy_chunks,\n",
    "#     'questions': jeopardy\n",
    "# }\n",
    "# joblib.dump(jeopardy_datafile, r'D:\\Dropbox\\data\\jeopardy\\jeopardy_vdb2.joblib')"
   ]
  },
  {
   "cell_type": "code",
   "execution_count": 26,
   "id": "cb2e4d21-9497-4208-b21c-7ac028d30c8b",
   "metadata": {},
   "outputs": [],
   "source": [
    "# np.savez(r'D:\\Dropbox\\data\\jeopardy\\jeopardy_vdb.npz', vdb=jeopardy_database, chunks=jeopardy_chunks)"
   ]
  },
  {
   "cell_type": "code",
   "execution_count": 27,
   "id": "1236fd2a-b988-4f62-bd8c-02965885a842",
   "metadata": {},
   "outputs": [],
   "source": [
    "data = joblib.load(r'D:\\Dropbox\\data\\jeopardy\\jeopardy_vdb2.joblib')\n",
    "jeopardy_chunks = data['chunks']\n",
    "jeopardy_database = data['vdb']\n",
    "jeopardy_data = data['questions']"
   ]
  },
  {
   "cell_type": "code",
   "execution_count": 28,
   "id": "6d16c02c-49d5-4884-b2c8-c69d8204457f",
   "metadata": {},
   "outputs": [],
   "source": [
    "def print_best_k(vdb, chunks, query: str, k=5):\n",
    "    top_k_indices = best_k(vdb, embed(query), k=k)\n",
    "    for index in top_k_indices:\n",
    "        print(chunks[index])\n",
    "        print()"
   ]
  },
  {
   "cell_type": "code",
   "execution_count": 29,
   "id": "89965df8-eef3-420e-bd10-61b524ebb68c",
   "metadata": {},
   "outputs": [
    {
     "name": "stdout",
     "output_type": "stream",
     "text": [
      "JEOPARDY QUESTION:\n",
      "category: 'RHYMES WITH RAIN'\n",
      "clue: 'It's a sheet of glass in a window'\n",
      "correct response: 'pane'\n",
      "\n",
      "JEOPARDY QUESTION:\n",
      "category: \"IT'S RAINING\"\n",
      "clue: 'Petrichor is this distinctive sensation, a pleasant accompaniment to the first rain after dry weather'\n",
      "correct response: 'the smell of rain'\n",
      "\n",
      "JEOPARDY QUESTION:\n",
      "category: 'WEATHER WORDS & PHRASES'\n",
      "clue: '<a href=\"http://www.j-archive.com/media/2005-04-20_J_16.mp3\">They</a> sound soothing to some'\n",
      "correct response: 'wind chimes'\n",
      "\n",
      "JEOPARDY QUESTION:\n",
      "category: 'THE RAIN'\n",
      "clue: '(Alex: Here is Al Roker with the clue)  When I predict this, from Middle English for \"to fall\", expect slow-falling raindrops less than .02\" across'\n",
      "correct response: 'drizzle'\n",
      "\n",
      "JEOPARDY QUESTION:\n",
      "category: 'OLD SONG LYRICS'\n",
      "clue: 'The Cascades:<br />\"Listen to the rhythm of the ___ ___ telling me just what a fool I've been\"'\n",
      "correct response: 'falling rain'\n",
      "\n"
     ]
    }
   ],
   "source": [
    "print_best_k(jeopardy_database, jeopardy_chunks, \"The sound of raindrops on the windowsill\")"
   ]
  },
  {
   "cell_type": "code",
   "execution_count": 30,
   "id": "e6e25e2b-9716-463b-8f28-8b77b3ed0990",
   "metadata": {},
   "outputs": [
    {
     "name": "stdout",
     "output_type": "stream",
     "text": [
      "247 ms ± 8.75 ms per loop (mean ± std. dev. of 3 runs, 3 loops each)\n"
     ]
    }
   ],
   "source": [
    "%%timeit -n 3 -r 3\n",
    "query_vector = embed(\"not jazz\")"
   ]
  },
  {
   "cell_type": "code",
   "execution_count": 31,
   "id": "e1fa8645-5ce6-4e95-8ee8-cdf7c5355247",
   "metadata": {},
   "outputs": [],
   "source": [
    "query_vector = embed(\"not jazz\")"
   ]
  },
  {
   "cell_type": "code",
   "execution_count": 32,
   "id": "d2d5790b-3254-4c9a-9730-dda27a9b191c",
   "metadata": {},
   "outputs": [
    {
     "name": "stdout",
     "output_type": "stream",
     "text": [
      "53 ms ± 2.14 ms per loop (mean ± std. dev. of 3 runs, 3 loops each)\n"
     ]
    }
   ],
   "source": [
    "%%timeit -n 3 -r 3\n",
    "best_k(jeopardy_database, query_vector, k=5)"
   ]
  },
  {
   "cell_type": "code",
   "execution_count": 33,
   "id": "1920a570-e61d-4325-90b2-169898ade66d",
   "metadata": {},
   "outputs": [
    {
     "name": "stdout",
     "output_type": "stream",
     "text": [
      "total size: 1.549798098\n",
      "vdb type: <class 'numpy.ndarray'>\n",
      "vdb dtype: float32\n",
      "vdb shape: (216930, 1536)\n",
      "vdb estimated size: 1.33281792 GB\n",
      "vdb size: 1.33281792 GB\n",
      "\n",
      "chunks type: <class 'list'>\n",
      "chunks length: 216930\n",
      "chunks[0] type: <class 'str'>\n",
      "chunk estimated size: 0.037974765 GB\n",
      "chunks size: 0.050316693 GB\n",
      "\n"
     ]
    },
    {
     "ename": "NameError",
     "evalue": "name 'jeopardy' is not defined",
     "output_type": "error",
     "traceback": [
      "\u001b[1;31m---------------------------------------------------------------------------\u001b[0m",
      "\u001b[1;31mNameError\u001b[0m                                 Traceback (most recent call last)",
      "Cell \u001b[1;32mIn[33], line 17\u001b[0m\n\u001b[0;32m     14\u001b[0m \u001b[38;5;28mprint\u001b[39m(\u001b[38;5;124m'\u001b[39m\u001b[38;5;124mchunks size:\u001b[39m\u001b[38;5;124m'\u001b[39m, total_size(jeopardy_chunks)\u001b[38;5;241m/\u001b[39m\u001b[38;5;241m1e9\u001b[39m, \u001b[38;5;124m'\u001b[39m\u001b[38;5;124mGB\u001b[39m\u001b[38;5;124m'\u001b[39m)\n\u001b[0;32m     15\u001b[0m \u001b[38;5;28mprint\u001b[39m()\n\u001b[1;32m---> 17\u001b[0m \u001b[38;5;28mprint\u001b[39m(\u001b[38;5;124m'\u001b[39m\u001b[38;5;124mquestions type:\u001b[39m\u001b[38;5;124m'\u001b[39m, \u001b[38;5;28mtype\u001b[39m(\u001b[43mjeopardy\u001b[49m))\n\u001b[0;32m     18\u001b[0m \u001b[38;5;28mprint\u001b[39m(\u001b[38;5;124m'\u001b[39m\u001b[38;5;124mquestions len:\u001b[39m\u001b[38;5;124m'\u001b[39m, \u001b[38;5;28mlen\u001b[39m(jeopardy))\n\u001b[0;32m     19\u001b[0m \u001b[38;5;28mprint\u001b[39m(\u001b[38;5;124m'\u001b[39m\u001b[38;5;124mquestions[0] type:\u001b[39m\u001b[38;5;124m'\u001b[39m, \u001b[38;5;28mtype\u001b[39m(jeopardy[\u001b[38;5;241m0\u001b[39m]))\n",
      "\u001b[1;31mNameError\u001b[0m: name 'jeopardy' is not defined"
     ]
    }
   ],
   "source": [
    "print('total size:', total_size(data)/1e9)\n",
    "\n",
    "print('vdb type:', type(jeopardy_database))\n",
    "print('vdb dtype:', jeopardy_database.dtype)\n",
    "print('vdb shape:', jeopardy_database.shape)\n",
    "print('vdb estimated size:', jeopardy_database.shape[0] * jeopardy_database.shape[1] * 4/1e9, 'GB')\n",
    "print('vdb size:', total_size(jeopardy_database)/1e9, 'GB')\n",
    "print()\n",
    "\n",
    "print('chunks type:', type(jeopardy_chunks))\n",
    "print('chunks length:', len(jeopardy_chunks))\n",
    "print('chunks[0] type:', type(jeopardy_chunks[0]))\n",
    "print('chunk estimated size:', len(','.join(jeopardy_chunks))/1e9, 'GB')\n",
    "print('chunks size:', total_size(jeopardy_chunks)/1e9, 'GB')\n",
    "print()\n",
    "\n",
    "print('questions type:', type(jeopardy))\n",
    "print('questions len:', len(jeopardy))\n",
    "print('questions[0] type:', type(jeopardy[0]))\n",
    "print('questions[0] len:', len(jeopardy[0]))\n",
    "print('questions size:', total_size(jeopardy)/1e9, 'GB')"
   ]
  },
  {
   "cell_type": "code",
   "execution_count": null,
   "id": "de8d5ba0-4fa8-499e-b70b-5636918c17a7",
   "metadata": {},
   "outputs": [],
   "source": [
    "def rag(category, clue):\n",
    "    query = f'''{category}\\n{clue}'''\n",
    "    query_vector = embed(query)\n",
    "    top_index = best_k(jeopardy_database, query_vector, k=1)[0]\n",
    "    answer = jeopardy[top_index]['answer']\n",
    "    return f'What is {answer}?'"
   ]
  },
  {
   "cell_type": "code",
   "execution_count": null,
   "id": "03246094-b8cf-44fc-a187-39fc81f5f5a7",
   "metadata": {},
   "outputs": [],
   "source": [
    "rag('HISTORY', 'For the last 8 years of his life, Galileo was under house arrest for espousing this man\\'s theory')"
   ]
  },
  {
   "cell_type": "code",
   "execution_count": null,
   "id": "cbe8cad1-ad1a-4b79-91f0-7ed07745a7dc",
   "metadata": {},
   "outputs": [],
   "source": [
    "import faiss"
   ]
  },
  {
   "cell_type": "code",
   "execution_count": null,
   "id": "402c709f-f322-44c5-be9d-056c070c30a7",
   "metadata": {},
   "outputs": [],
   "source": [
    "l2_index = faiss.IndexFlatL2(1536)\n",
    "l2_index.add(jeopardy_database)"
   ]
  },
  {
   "cell_type": "code",
   "execution_count": null,
   "id": "b42b037c-ba1f-4f40-93e6-9d1d2e82d2da",
   "metadata": {},
   "outputs": [],
   "source": [
    "distances, top_k_indices = l2_index.search(query_vector.reshape(1, -1), k=5)\n",
    "for index in top_k_indices[0]:\n",
    "    print(jeopardy_chunks[index])\n",
    "    print()"
   ]
  },
  {
   "cell_type": "code",
   "execution_count": null,
   "id": "c4ec29a9-e616-4e36-90f0-5b70d65c80c4",
   "metadata": {},
   "outputs": [],
   "source": [
    "%%timeit\n",
    "distances, top_k_indices = l2_index.search(query_vector.reshape(1, -1), k=5)"
   ]
  },
  {
   "cell_type": "code",
   "execution_count": null,
   "id": "75c21659-4605-4b81-be1a-7d95c486df7c",
   "metadata": {},
   "outputs": [],
   "source": [
    "inner_product_index = faiss.IndexFlatIP(1536)\n",
    "inner_product_index.add(jeopardy_database)"
   ]
  },
  {
   "cell_type": "code",
   "execution_count": null,
   "id": "061caf43-27b9-4cb8-8578-dc813feb9d0b",
   "metadata": {},
   "outputs": [],
   "source": [
    "distances, top_k_indices = inner_product_index.search(query_vector.reshape(1, -1), k=5)\n",
    "for index in top_k_indices[0]:\n",
    "    print(jeopardy_chunks[index])\n",
    "    print()"
   ]
  },
  {
   "cell_type": "code",
   "execution_count": null,
   "id": "4fc2db8a-d580-40f3-8441-a1ac6b2e6350",
   "metadata": {},
   "outputs": [],
   "source": [
    "%%timeit\n",
    "distances, top_k_indices = inner_product_index.search(query_vector.reshape(1, -1), k=5)"
   ]
  },
  {
   "cell_type": "code",
   "execution_count": null,
   "id": "de2e1e90-72f1-4b72-b93a-f48949c7a207",
   "metadata": {},
   "outputs": [],
   "source": [
    "hnsw_index = faiss.IndexHNSWFlat(1536, 32)\n",
    "hnsw_index.add(jeopardy_database)"
   ]
  },
  {
   "cell_type": "code",
   "execution_count": null,
   "id": "86ef08cc-97db-4d00-8140-dd0cf02d1715",
   "metadata": {},
   "outputs": [],
   "source": [
    "query_vector = embed('Love')"
   ]
  },
  {
   "cell_type": "code",
   "execution_count": null,
   "id": "d71d25d8-a549-4ea4-861a-eecbf9b49b0b",
   "metadata": {},
   "outputs": [],
   "source": [
    "distances, top_k_indices = hnsw_index.search(query_vector.reshape(1, -1), k=5)\n",
    "for index in top_k_indices[0]:\n",
    "    print(jeopardy_chunks[index])\n",
    "    print()"
   ]
  },
  {
   "cell_type": "code",
   "execution_count": null,
   "id": "1074289d-89be-4bca-952e-76c7a13857c5",
   "metadata": {},
   "outputs": [],
   "source": [
    "%%timeit\n",
    "distances, top_k_indices = hnsw_index.search(query_vector.reshape(1, -1), k=5)"
   ]
  },
  {
   "cell_type": "code",
   "execution_count": null,
   "id": "9af53b10-f140-4ef1-b55b-310bc728d237",
   "metadata": {},
   "outputs": [],
   "source": [
    "99.2e-3 / 355e-6"
   ]
  },
  {
   "cell_type": "code",
   "execution_count": null,
   "id": "427b33fb-66ac-4159-a7ee-bd6cbb7a77e8",
   "metadata": {},
   "outputs": [],
   "source": [
    "hnsw_scalar_quantized_index = faiss.IndexHNSWSQ(1536, faiss.ScalarQuantizer.QT_8bit, 32)\n",
    "hnsw_scalar_quantized_index.train(jeopardy_database)\n",
    "hnsw_scalar_quantized_index.add(jeopardy_database)"
   ]
  },
  {
   "cell_type": "code",
   "execution_count": null,
   "id": "60d648b9-0430-4d55-916c-61f4fa7e4c4b",
   "metadata": {},
   "outputs": [],
   "source": [
    "distances, top_k_indices = hnsw_scalar_quantized_index.search(query_vector.reshape(1, -1), k=5)\n",
    "for index in top_k_indices[0]:\n",
    "    print(jeopardy_chunks[index])\n",
    "    print()"
   ]
  },
  {
   "cell_type": "code",
   "execution_count": null,
   "id": "5f9b911c-771b-4ddb-8a6e-ac986ed64ea5",
   "metadata": {},
   "outputs": [],
   "source": [
    "%%timeit\n",
    "distances, top_k_indices = hnsw_scalar_quantized_index.search(query_vector.reshape(1, -1), k=5)"
   ]
  },
  {
   "cell_type": "code",
   "execution_count": null,
   "id": "1990df79-3110-4ea4-baa5-505428ce8dcc",
   "metadata": {},
   "outputs": [],
   "source": [
    "faiss.write_index(hnsw_index, r'D:\\dropbox\\data\\jeopardy\\jeopardy_faiss_hnsw.index')"
   ]
  },
  {
   "cell_type": "code",
   "execution_count": null,
   "id": "20538627-8ba3-42a9-9650-738399bdf034",
   "metadata": {},
   "outputs": [],
   "source": [
    "%%timeit\n",
    "faiss.read_index(r'D:\\dropbox\\data\\jeopardy\\jeopardy_faiss_hnsw.index')"
   ]
  },
  {
   "cell_type": "code",
   "execution_count": null,
   "id": "9465eeec-aa32-4cee-8ebf-acfd9731b6f5",
   "metadata": {},
   "outputs": [],
   "source": []
  }
 ],
 "metadata": {
  "kernelspec": {
   "display_name": "Python 3 (ipykernel)",
   "language": "python",
   "name": "python3"
  },
  "language_info": {
   "codemirror_mode": {
    "name": "ipython",
    "version": 3
   },
   "file_extension": ".py",
   "mimetype": "text/x-python",
   "name": "python",
   "nbconvert_exporter": "python",
   "pygments_lexer": "ipython3",
   "version": "3.12.3"
  }
 },
 "nbformat": 4,
 "nbformat_minor": 5
}
