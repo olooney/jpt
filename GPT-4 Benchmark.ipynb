{
 "cells": [
  {
   "cell_type": "code",
   "execution_count": 38,
   "id": "7769cfed-9649-451f-a74d-429e4bcbfcd0",
   "metadata": {},
   "outputs": [],
   "source": [
    "import jpt\n",
    "from jpt import (\n",
    "    austin,\n",
    "    buzzy,\n",
    "    load_jeopardy_dataset,\n",
    "    jeopardy_benchmark,\n",
    "    evaluate_jeopardy_benchmarks,\n",
    "    plot_evaluations\n",
    ")\n",
    "from util import ws\n",
    "import pandas as pd\n",
    "import os"
   ]
  },
  {
   "cell_type": "code",
   "execution_count": 2,
   "id": "048e6174-7052-4359-b853-fb7f6e1ca778",
   "metadata": {},
   "outputs": [],
   "source": [
    "%load_ext autoreload\n",
    "%autoreload 2"
   ]
  },
  {
   "cell_type": "code",
   "execution_count": 3,
   "id": "45fc9372-98f6-4211-9704-f6d852ccb082",
   "metadata": {},
   "outputs": [],
   "source": [
    "jeopardy_data = load_jeopardy_dataset(remove_unfair=True)"
   ]
  },
  {
   "cell_type": "code",
   "execution_count": 31,
   "id": "1cb87f47-bb5b-4acd-bc34-6e55e8cfcfd6",
   "metadata": {},
   "outputs": [
    {
     "data": {
      "text/plain": [
       "(16000, 8)"
      ]
     },
     "execution_count": 31,
     "metadata": {},
     "output_type": "execute_result"
    }
   ],
   "source": [
    "old_benchmark_results_df = pd.read_csv(os.path.join(jpt.JEOPARDY_DATA_DIR, r'all_benchmark_results_2024-05-14.csv'))\n",
    "old_benchmark_results_df.shape"
   ]
  },
  {
   "cell_type": "code",
   "execution_count": 10,
   "id": "2b2eeca1-6917-444a-8ff2-20d2ea55161d",
   "metadata": {},
   "outputs": [
    {
     "name": "stdout",
     "output_type": "stream",
     "text": [
      "Category: MOTHERS OF INVENTION\n",
      "Clue: Teri Pall claimed the 1965 invention of this device that had a range of 2 miles; we don't know if it was a 900 MHz\n",
      "Answer: a cordless phone\n",
      "Contestant: What is the cordless telephone?\n",
      "Alex: Correct! The cordless telephone is indeed the correct response.\n",
      "\n",
      "Category: MUSICALS\n",
      "Clue: \"The Color Purple\" takes place in this \"peachy\" Southern state, & it premiered there before it came to Broadway\n",
      "Answer: Georgia\n",
      "Contestant: What is Georgia?\n",
      "Alex: Correct!\n",
      "\n",
      "Category: WORLD HISTORY\n",
      "Clue: In 1812 Napoleon's Grand Army of 614,000 invaded this country; months later only 40,000 were left\n",
      "Answer: Russia\n",
      "Contestant: What is Russia?\n",
      "Alex: Correct!\n",
      "\n",
      "Category: JUNGLE POTPOURRI\n",
      "Clue: This comic \"Lion King\" pair have their own CD-ROM called \"Jungle Games\"\n",
      "Answer: Timon & Pumbaa\n",
      "Contestant: Who are Timon and Pumbaa?\n",
      "Alex: Correct!\n",
      "\n",
      "Category: CECIL\n",
      "Clue: Cecil Day founded this motel chain in 1970\n",
      "Answer: Days Inn\n",
      "Contestant: What is Days Inn?\n",
      "Alex: Correct!\n",
      "\n",
      "Category: SIBLING SPORTS RIVALRIES\n",
      "Clue: In October 2010 these 2 sisters ranked first & third in women's tennis\n",
      "Answer: Venus & Serena Williams\n",
      "Contestant: Who are Venus and Serena Williams?\n",
      "Alex: Correct! Venus and Serena Williams are indeed the sisters who ranked first and third in women's tennis in October 2010.\n",
      "\n",
      "Category: CLASSIC TV COMEDY EPISODES\n",
      "Clue: \"Uncle Martin's Wisdom Tooth\"\n",
      "Answer: My Favorite Martian\n",
      "Contestant: What is \"My Favorite Martian\"?\n",
      "Alex: Correct!\n",
      "\n",
      "Category: A THOUSAND SOMETHING\n",
      "Clue: At 1,864 square miles, it's much bigger than its neighbor Tobago\n",
      "Answer: Trinidad\n",
      "Contestant: What is Trinidad?\n",
      "Alex: Correct!\n",
      "\n",
      "Category: ART CLASS\n",
      "Clue: This dynastic word is applied to Chinese art, especially porcelains, from the mid-14th to the mid-17th centuries\n",
      "Answer: Ming\n",
      "Contestant: What is Ming?\n",
      "Alex: Correct!\n",
      "\n",
      "Category: CINEMA SEQUELS\n",
      "Clue: In a 1996 sequel to this film, 2 dogs & a cat are \"Lost In San Francisco\"\n",
      "Answer: \"Homeward Bound\"\n",
      "Contestant: What is \"Homeward Bound\"?\n",
      "Alex: Correct!\n",
      "\n"
     ]
    }
   ],
   "source": [
    "austin_benchmark_results_df1 = jeopardy_benchmark(\n",
    "    contestant=austin,\n",
    "    dataset=jeopardy_data,\n",
    "    verbose=True,\n",
    "    sample_size=10)"
   ]
  },
  {
   "cell_type": "code",
   "execution_count": 11,
   "id": "1cef4a69-c9c6-402d-9fa0-062cffe65989",
   "metadata": {},
   "outputs": [
    {
     "name": "stdout",
     "output_type": "stream",
     "text": [
      "Category: CHRISTMAS CUSTOMS\n",
      "Clue: A treasured history tradition in New York City is ice-skating beneath the giant Christmas tree in this plaza\n",
      "Answer: Rockefeller Plaza\n",
      "Contestant: What is Rockefeller Plaza?\n",
      "Alex: Correct!\n",
      "\n",
      "Category: \"G\" MEN\n",
      "Clue: In the 1970s this future veep was a reporter for the Tennessean newspaper\n",
      "Answer: (Al) Gore\n",
      "Contestant: Who is Al Gore?\n",
      "Alex: Correct! Al Gore is the right answer.\n",
      "\n",
      "Category: A PEANUTS TIMELINE\n",
      "Clue: September 24, 1990:<br />This hygiene-challenged boy runs for class president\n",
      "Answer: Pigpen\n",
      "Contestant: Who is Pigpen?\n",
      "Alex: Correct!\n",
      "\n",
      "Category: TV PARENTS\n",
      "Clue: Can we talk?  This comedienne guest-starred as Kathy Griffin's wacky mom on \"Suddenly Susan\"\n",
      "Answer: Joan Rivers\n",
      "Contestant: Who is Joan Rivers?\n",
      "Alex: Correct! Joan Rivers is indeed the answer.\n",
      "\n",
      "Category: THE PATRIOT LEAGUE\n",
      "Clue: Isaac Hull captained this ship in 1812 as cannonballs from the frigate Guerriere bounced off it\n",
      "Answer: the USS Constitution (\"Old Ironsides\")\n",
      "Contestant: What is the USS Constitution?\n",
      "Alex: Correct! The USS Constitution is indeed the ship captained by Isaac Hull in 1812, famously known as \"Old Ironsides.\" Well done!\n",
      "\n",
      "Category: THINK \"TANK\"\n",
      "Clue: Sometimes found with a hinged lid, it's a large beer mug\n",
      "Answer: a tankard\n",
      "Contestant: What is a tankard?\n",
      "Alex: Correct!\n",
      "\n",
      "Category: \"W\"\n",
      "Clue: The name of this pan used for frying, steaming, etc, is from the Chinese for \"pan\"\n",
      "Answer: a wok\n",
      "Contestant: What is a Wok?\n",
      "Alex: Correct!\n",
      "\n",
      "Category: PLUS 8\n",
      "Clue: Number of days in a leap year<br />times 2<br />plus 8\n",
      "Answer: 740\n",
      "Contestant: What is 740?\n",
      "Alex: Correct!\n",
      "\n",
      "Category: SWEET SONGS\n",
      "Clue: Marvin Gaye & James Taylor each had a hit with this song\n",
      "Answer: \"How Sweet It Is To Be Loved By You\"\n",
      "Contestant: What is \"How Sweet It Is (To Be Loved by You)\"?\n",
      "Alex: Correct!\n",
      "\n",
      "Category: CROSSWORD CLUES \"X\"\n",
      "Clue: Hater of foreigners<br />(9)\n",
      "Answer: xenophobe\n",
      "Contestant: What is xenophobe?\n",
      "Alex: Correct! \"What is xenophobe?\" is the right question for the clue \"Hater of foreigners (9).\"\n",
      "\n"
     ]
    }
   ],
   "source": [
    "buzzy_benchmark_results_df1 = jeopardy_benchmark(\n",
    "    contestant=buzzy,\n",
    "    dataset=jeopardy_data,\n",
    "    verbose=True,\n",
    "    sample_size=10)"
   ]
  },
  {
   "cell_type": "code",
   "execution_count": 21,
   "id": "459c7f5b-9fcc-4508-9ab1-4587bd041f95",
   "metadata": {},
   "outputs": [
    {
     "name": "stdout",
     "output_type": "stream",
     "text": [
      ".........................................................................................................................................................................................................................................................................................................................................................................................................................................................................................................."
     ]
    }
   ],
   "source": [
    "austin_benchmark_results_df2 = jeopardy_benchmark(\n",
    "    contestant=austin,\n",
    "    dataset=jeopardy_data,\n",
    "    sample_size=490)"
   ]
  },
  {
   "cell_type": "code",
   "execution_count": 22,
   "id": "9187001f-665c-4c44-8e9d-0e89f3693efa",
   "metadata": {},
   "outputs": [
    {
     "name": "stdout",
     "output_type": "stream",
     "text": [
      ".........................................................................................................................................................................................................................................................................................................................................................................................................................................................................................................."
     ]
    }
   ],
   "source": [
    "buzzy_benchmark_results_df2 = jeopardy_benchmark(\n",
    "    contestant=buzzy,\n",
    "    dataset=jeopardy_data,\n",
    "    sample_size=490)"
   ]
  },
  {
   "cell_type": "code",
   "execution_count": 37,
   "id": "2a3eb83f-9b25-4a63-8e47-f6a312ed744d",
   "metadata": {},
   "outputs": [
    {
     "name": "stdout",
     "output_type": "stream",
     "text": [
      "............................................................................................................................................................................................................................................................................................................................................................................................................................................................................................................................................................................................................................................................................................................................................................................................................................................................................................................................................................................................................................................................................................................................................................................................................................................................................................................................................................................................................................................................................................................................................................"
     ]
    }
   ],
   "source": [
    "buzzy_benchmark_results_df3 = jeopardy_benchmark(\n",
    "    contestant=buzzy,\n",
    "    dataset=jeopardy_data,\n",
    "    sample_size=1500)"
   ]
  },
  {
   "cell_type": "code",
   "execution_count": 38,
   "id": "0c11b54a-8740-4250-a993-aaf87fef0d8c",
   "metadata": {},
   "outputs": [
    {
     "name": "stdout",
     "output_type": "stream",
     "text": [
      "............................................................................................................................................................................................................................................................................................................................................................................................................................................................................................................................................................................................................................................................................................................................................................................................................................................................................................................................................................................................................................................................................................................................................................................................................................................................................................................................................................................................................................................................................................................................................................"
     ]
    }
   ],
   "source": [
    "austin_benchmark_results_df3 = jeopardy_benchmark(\n",
    "    contestant=austin,\n",
    "    dataset=jeopardy_data,\n",
    "    sample_size=1500)"
   ]
  },
  {
   "cell_type": "code",
   "execution_count": 39,
   "id": "5da36e70-43ce-4483-9721-1b1788da07c1",
   "metadata": {},
   "outputs": [],
   "source": [
    "new_benchmark_results_df = pd.concat([\n",
    "    austin_benchmark_results_df1,\n",
    "    austin_benchmark_results_df2,\n",
    "    austin_benchmark_results_df3,\n",
    "    buzzy_benchmark_results_df1,\n",
    "    buzzy_benchmark_results_df2,\n",
    "    buzzy_benchmark_results_df3,\n",
    "])"
   ]
  },
  {
   "cell_type": "code",
   "execution_count": 40,
   "id": "c405efe4-09f2-4c2f-b5aa-785be5469bc3",
   "metadata": {},
   "outputs": [
    {
     "data": {
      "text/plain": [
       "(20000, 8)"
      ]
     },
     "execution_count": 40,
     "metadata": {},
     "output_type": "execute_result"
    }
   ],
   "source": [
    "all_benchmark_results_df = pd.concat([\n",
    "    old_benchmark_results_df, \n",
    "    new_benchmark_results_df\n",
    "])\n",
    "all_benchmark_results_df.shape"
   ]
  },
  {
   "cell_type": "code",
   "execution_count": 41,
   "id": "91a909e0-5441-4e80-bb2b-4ca7e4b03f3e",
   "metadata": {},
   "outputs": [
    {
     "data": {
      "text/html": [
       "<div>\n",
       "<style scoped>\n",
       "    .dataframe tbody tr th:only-of-type {\n",
       "        vertical-align: middle;\n",
       "    }\n",
       "\n",
       "    .dataframe tbody tr th {\n",
       "        vertical-align: top;\n",
       "    }\n",
       "\n",
       "    .dataframe thead th {\n",
       "        text-align: right;\n",
       "    }\n",
       "</style>\n",
       "<table border=\"1\" class=\"dataframe\">\n",
       "  <thead>\n",
       "    <tr style=\"text-align: right;\">\n",
       "      <th></th>\n",
       "      <th>label</th>\n",
       "      <th>successes</th>\n",
       "      <th>failures</th>\n",
       "      <th>sample_size</th>\n",
       "      <th>success_rate</th>\n",
       "      <th>standard_error</th>\n",
       "      <th>name</th>\n",
       "    </tr>\n",
       "  </thead>\n",
       "  <tbody>\n",
       "    <tr>\n",
       "      <th>1</th>\n",
       "      <td>ken</td>\n",
       "      <td>1924</td>\n",
       "      <td>76</td>\n",
       "      <td>2000</td>\n",
       "      <td>0.9620</td>\n",
       "      <td>0.004288</td>\n",
       "      <td>Ken Jennings\\ngpt-4-turbo</td>\n",
       "    </tr>\n",
       "    <tr>\n",
       "      <th>9</th>\n",
       "      <td>buzzy</td>\n",
       "      <td>1924</td>\n",
       "      <td>76</td>\n",
       "      <td>2000</td>\n",
       "      <td>0.9620</td>\n",
       "      <td>0.004288</td>\n",
       "      <td>Buzzy Cohen\\ngpt-4</td>\n",
       "    </tr>\n",
       "    <tr>\n",
       "      <th>7</th>\n",
       "      <td>cris</td>\n",
       "      <td>1917</td>\n",
       "      <td>83</td>\n",
       "      <td>2000</td>\n",
       "      <td>0.9585</td>\n",
       "      <td>0.004471</td>\n",
       "      <td>Cris Pannullo\\ngpt-4o</td>\n",
       "    </tr>\n",
       "    <tr>\n",
       "      <th>8</th>\n",
       "      <td>austin</td>\n",
       "      <td>1913</td>\n",
       "      <td>87</td>\n",
       "      <td>2000</td>\n",
       "      <td>0.9565</td>\n",
       "      <td>0.004573</td>\n",
       "      <td>Austin Rogers\\ngpt-4\\nRAG</td>\n",
       "    </tr>\n",
       "    <tr>\n",
       "      <th>0</th>\n",
       "      <td>amy</td>\n",
       "      <td>1856</td>\n",
       "      <td>144</td>\n",
       "      <td>2000</td>\n",
       "      <td>0.9280</td>\n",
       "      <td>0.005788</td>\n",
       "      <td>Amy Schneider\\ngpt-3.5\\nfine-tuned</td>\n",
       "    </tr>\n",
       "    <tr>\n",
       "      <th>5</th>\n",
       "      <td>james</td>\n",
       "      <td>1791</td>\n",
       "      <td>209</td>\n",
       "      <td>2000</td>\n",
       "      <td>0.8955</td>\n",
       "      <td>0.006846</td>\n",
       "      <td>James Holzhauer\\ngpt-3.5-turbo</td>\n",
       "    </tr>\n",
       "    <tr>\n",
       "      <th>4</th>\n",
       "      <td>brad</td>\n",
       "      <td>1790</td>\n",
       "      <td>210</td>\n",
       "      <td>2000</td>\n",
       "      <td>0.8950</td>\n",
       "      <td>0.006860</td>\n",
       "      <td>Brad Rutter\\nllama3:70b</td>\n",
       "    </tr>\n",
       "    <tr>\n",
       "      <th>6</th>\n",
       "      <td>mattea</td>\n",
       "      <td>1567</td>\n",
       "      <td>433</td>\n",
       "      <td>2000</td>\n",
       "      <td>0.7835</td>\n",
       "      <td>0.009212</td>\n",
       "      <td>Mattea Roach\\nllama3:8b\\nRAG</td>\n",
       "    </tr>\n",
       "    <tr>\n",
       "      <th>2</th>\n",
       "      <td>larissa</td>\n",
       "      <td>1257</td>\n",
       "      <td>743</td>\n",
       "      <td>2000</td>\n",
       "      <td>0.6285</td>\n",
       "      <td>0.010805</td>\n",
       "      <td>Larissa Kelly\\nllama3:8b</td>\n",
       "    </tr>\n",
       "    <tr>\n",
       "      <th>3</th>\n",
       "      <td>david</td>\n",
       "      <td>1196</td>\n",
       "      <td>804</td>\n",
       "      <td>2000</td>\n",
       "      <td>0.5980</td>\n",
       "      <td>0.010964</td>\n",
       "      <td>David Madden\\nllama2:7b</td>\n",
       "    </tr>\n",
       "  </tbody>\n",
       "</table>\n",
       "</div>"
      ],
      "text/plain": [
       "     label  successes  failures  sample_size  success_rate  standard_error  \\\n",
       "1      ken       1924        76         2000        0.9620        0.004288   \n",
       "9    buzzy       1924        76         2000        0.9620        0.004288   \n",
       "7     cris       1917        83         2000        0.9585        0.004471   \n",
       "8   austin       1913        87         2000        0.9565        0.004573   \n",
       "0      amy       1856       144         2000        0.9280        0.005788   \n",
       "5    james       1791       209         2000        0.8955        0.006846   \n",
       "4     brad       1790       210         2000        0.8950        0.006860   \n",
       "6   mattea       1567       433         2000        0.7835        0.009212   \n",
       "2  larissa       1257       743         2000        0.6285        0.010805   \n",
       "3    david       1196       804         2000        0.5980        0.010964   \n",
       "\n",
       "                                 name  \n",
       "1           Ken Jennings\\ngpt-4-turbo  \n",
       "9                  Buzzy Cohen\\ngpt-4  \n",
       "7               Cris Pannullo\\ngpt-4o  \n",
       "8           Austin Rogers\\ngpt-4\\nRAG  \n",
       "0  Amy Schneider\\ngpt-3.5\\nfine-tuned  \n",
       "5      James Holzhauer\\ngpt-3.5-turbo  \n",
       "4             Brad Rutter\\nllama3:70b  \n",
       "6        Mattea Roach\\nllama3:8b\\nRAG  \n",
       "2            Larissa Kelly\\nllama3:8b  \n",
       "3             David Madden\\nllama2:7b  "
      ]
     },
     "execution_count": 41,
     "metadata": {},
     "output_type": "execute_result"
    }
   ],
   "source": [
    "jeopardy_benchmark_evaluations_df = evaluate_jeopardy_benchmarks(all_benchmark_results_df)\n",
    "jeopardy_benchmark_evaluations_df"
   ]
  },
  {
   "cell_type": "code",
   "execution_count": 42,
   "id": "a0346a77-bdac-4cf8-be08-f2593db3b628",
   "metadata": {},
   "outputs": [
    {
     "name": "stdout",
     "output_type": "stream",
     "text": [
      "| Contestant      | Model         | Variation   | Successes   |   Failures | Sample Size   | Success Rate   | 95% CI   |\n",
      "|:----------------|:--------------|:------------|:------------|-----------:|:--------------|:---------------|:---------|\n",
      "| Ken Jennings    | gpt-4-turbo   |             | 1,924       |         76 | 2,000         | 96.20%         | ±0.84%   |\n",
      "| Buzzy Cohen     | gpt-4         |             | 1,924       |         76 | 2,000         | 96.20%         | ±0.84%   |\n",
      "| Cris Pannullo   | gpt-4o        |             | 1,917       |         83 | 2,000         | 95.85%         | ±0.88%   |\n",
      "| Austin Rogers   | gpt-4         | RAG         | 1,913       |         87 | 2,000         | 95.65%         | ±0.90%   |\n",
      "| Amy Schneider   | gpt-3.5       | fine-tuned  | 1,856       |        144 | 2,000         | 92.80%         | ±1.13%   |\n",
      "| James Holzhauer | gpt-3.5-turbo |             | 1,791       |        209 | 2,000         | 89.55%         | ±1.34%   |\n",
      "| Brad Rutter     | llama3:70b    |             | 1,790       |        210 | 2,000         | 89.50%         | ±1.34%   |\n",
      "| Mattea Roach    | llama3:8b     | RAG         | 1,567       |        433 | 2,000         | 78.35%         | ±1.81%   |\n",
      "| Larissa Kelly   | llama3:8b     |             | 1,257       |        743 | 2,000         | 62.85%         | ±2.12%   |\n",
      "| David Madden    | llama2:7b     |             | 1,196       |        804 | 2,000         | 59.80%         | ±2.15%   |\n"
     ]
    }
   ],
   "source": [
    "df = jeopardy_benchmark_evaluations_df.copy()\n",
    "df.reset_index(drop=True, inplace=True)\n",
    "\n",
    "# split name/model into separate columns\n",
    "name_split = df['name'].str.split('\\n', expand=True)\n",
    "df.insert(0, 'variation', name_split[2])\n",
    "df.insert(0, 'model', name_split[1])\n",
    "df.insert(0, 'Contestant', name_split[0])\n",
    "df.drop(columns=['label', 'name'], inplace=True)\n",
    "\n",
    "# formatting\n",
    "df['successes'] = df['successes'].apply(lambda x: f'{x:,}')\n",
    "df['failures'] = df['failures'].apply(lambda x: f'{x:,}')\n",
    "df['sample_size'] = df['sample_size'].apply(lambda x: f'{x:,}')\n",
    "df['success_rate'] = df['success_rate'].apply(lambda p: f'{p*100:0.2f}%')\n",
    "df['standard_error'] = df['standard_error'].apply(lambda p: f'±{p*196:0.2f}%')\n",
    "\n",
    "df.columns = ['Contestant', 'Model', 'Variation', 'Successes', 'Failures', 'Sample Size', 'Success Rate', '95% CI']\n",
    "print(df.to_markdown(index=False))"
   ]
  },
  {
   "cell_type": "code",
   "execution_count": 9,
   "id": "1eadc0d0-8fcf-41bc-830e-c8537b9ff1d4",
   "metadata": {},
   "outputs": [],
   "source": [
    "eval_filename = os.path.join(jpt.JEOPARDY_DATA_DIR, 'jeopardy_benchmark_evaluations_2024-05-17.csv')\n",
    "jeopardy_benchmark_evaluations_df = pd.read_csv(eval_filename)\n",
    "\n",
    "benchmark_filename = os.path.join(jpt.JEOPARDY_DATA_DIR, 'all_benchmark_results_2024-05-17.csv')\n",
    "all_benchmark_results_df = pd.read_csv(benchmark_filename)"
   ]
  },
  {
   "cell_type": "code",
   "execution_count": 7,
   "id": "3cca0a29-7d35-4f0c-b2e0-f4bfb3b9c197",
   "metadata": {},
   "outputs": [
    {
     "data": {
      "text/plain": [
       "(0.8, 1.0)"
      ]
     },
     "execution_count": 7,
     "metadata": {},
     "output_type": "execute_result"
    },
    {
     "data": {
      "image/png": "[encoded data removed]",
      "text/plain": [
       "<Figure size 1048.31x698.087 with 1 Axes>"
      ]
     },
     "metadata": {},
     "output_type": "display_data"
    }
   ],
   "source": [
    "# Plotting the bar chart with error bars\n",
    "\n",
    "gpt_models = jeopardy_benchmark_evaluations_df['name'].str.contains('\\ngpt-')\n",
    "gpt_benchmark_evaluations_df = jeopardy_benchmark_evaluations_df[gpt_models]\n",
    "plot_evaluations(gpt_benchmark_evaluations_df)\n",
    "import matplotlib.pyplot as plt\n",
    "plt.ylim(0.8, 1)"
   ]
  },
  {
   "cell_type": "code",
   "execution_count": 44,
   "id": "77004bb1-d67e-4f95-a9c0-6d8ab329c312",
   "metadata": {},
   "outputs": [
    {
     "name": "stdout",
     "output_type": "stream",
     "text": [
      "wrote C:\\Users\\oloon\\Dropbox\\data\\jeopardy\\jeopardy_benchmark_evaluations_2024-05-17.csv\n",
      "wrote C:\\Users\\oloon\\Dropbox\\data\\jeopardy\\all_benchmark_results_2024-05-17.csv\n"
     ]
    }
   ],
   "source": [
    "# from util import now\n",
    "# timestamp = now(False)\n",
    "# eval_filename = os.path.join(jpt.JEOPARDY_DATA_DIR, f'jeopardy_benchmark_evaluations_{timestamp}.csv')\n",
    "# print('wrote', eval_filename)\n",
    "# jeopardy_benchmark_evaluations_df.to_csv(eval_filename, index=False)\n",
    "\n",
    "# benchmark_filename = os.path.join(jpt.JEOPARDY_DATA_DIR, f'all_benchmark_results_{timestamp}.csv')\n",
    "# all_benchmark_results_df.to_csv(benchmark_filename, index=False)\n",
    "# print('wrote', benchmark_filename)"
   ]
  },
  {
   "cell_type": "code",
   "execution_count": 36,
   "id": "3f13d6e4-a829-4def-b1a9-69a98a975a11",
   "metadata": {},
   "outputs": [
    {
     "name": "stdout",
     "output_type": "stream",
     "text": [
      "(322, 8)\n"
     ]
    },
    {
     "data": {
      "text/html": [
       "<div>\n",
       "<style scoped>\n",
       "    .dataframe tbody tr th:only-of-type {\n",
       "        vertical-align: middle;\n",
       "    }\n",
       "\n",
       "    .dataframe tbody tr th {\n",
       "        vertical-align: top;\n",
       "    }\n",
       "\n",
       "    .dataframe thead th {\n",
       "        text-align: right;\n",
       "    }\n",
       "</style>\n",
       "<table border=\"1\" class=\"dataframe\">\n",
       "  <thead>\n",
       "    <tr style=\"text-align: right;\">\n",
       "      <th></th>\n",
       "      <th>label</th>\n",
       "      <th>category</th>\n",
       "      <th>question</th>\n",
       "      <th>value</th>\n",
       "      <th>answer</th>\n",
       "      <th>contestant_answer</th>\n",
       "      <th>judgement</th>\n",
       "      <th>correct</th>\n",
       "    </tr>\n",
       "  </thead>\n",
       "  <tbody>\n",
       "    <tr>\n",
       "      <th>18621</th>\n",
       "      <td>buzzy</td>\n",
       "      <td>NOT A VERB</td>\n",
       "      <td>'Capable,&lt;br /&gt;succeed,&lt;br /&gt;accomplish'</td>\n",
       "      <td>200.0</td>\n",
       "      <td>capable</td>\n",
       "      <td>What is \"accomplish\"?</td>\n",
       "      <td>Incorrect. The correct response was \"What is capable?\"</td>\n",
       "      <td>False</td>\n",
       "    </tr>\n",
       "    <tr>\n",
       "      <th>15493</th>\n",
       "      <td>cris</td>\n",
       "      <td>3-LETTER WORDS</td>\n",
       "      <td>'A sailor may be a tar or this, also a mass or a lump'</td>\n",
       "      <td>1600.0</td>\n",
       "      <td>gob</td>\n",
       "      <td>What is a tar?</td>\n",
       "      <td>Incorrect. The correct response was \"What is gob?\"</td>\n",
       "      <td>False</td>\n",
       "    </tr>\n",
       "    <tr>\n",
       "      <th>477</th>\n",
       "      <td>ken</td>\n",
       "      <td>VANS</td>\n",
       "      <td>'Columnist Abigail, who opposes smoking, or president Martin, who opposed the annexation of Texas'</td>\n",
       "      <td>200.0</td>\n",
       "      <td>Van Buren</td>\n",
       "      <td>Who are Van Buren and Van?</td>\n",
       "      <td>Incorrect. The correct response was \"Van Buren.\"</td>\n",
       "      <td>False</td>\n",
       "    </tr>\n",
       "    <tr>\n",
       "      <th>395</th>\n",
       "      <td>ken</td>\n",
       "      <td>WHAT'S COOKIN'?</td>\n",
       "      <td>'The U.S. Senate has its own recipe for a soup made from this legume'</td>\n",
       "      <td>500.0</td>\n",
       "      <td>Navy bean soup</td>\n",
       "      <td>What is bean soup?</td>\n",
       "      <td>Incorrect. The correct response was \"What is Navy bean soup?\"</td>\n",
       "      <td>False</td>\n",
       "    </tr>\n",
       "    <tr>\n",
       "      <th>15006</th>\n",
       "      <td>cris</td>\n",
       "      <td>FOUR!</td>\n",
       "      <td>'In the English alphabet, it's the fourth consonant'</td>\n",
       "      <td>200.0</td>\n",
       "      <td>F</td>\n",
       "      <td>What is D?</td>\n",
       "      <td>Incorrect. The correct response is \"What is F?\"</td>\n",
       "      <td>False</td>\n",
       "    </tr>\n",
       "    <tr>\n",
       "      <th>16699</th>\n",
       "      <td>austin</td>\n",
       "      <td>TO THE \"NTH\" DEGREE</td>\n",
       "      <td>'If you're an architect you may want to base your column on one'</td>\n",
       "      <td>800.0</td>\n",
       "      <td>plinth</td>\n",
       "      <td>What is the Nth order?</td>\n",
       "      <td>Incorrect. The correct response was, \"What is a plinth?\"</td>\n",
       "      <td>False</td>\n",
       "    </tr>\n",
       "    <tr>\n",
       "      <th>19712</th>\n",
       "      <td>buzzy</td>\n",
       "      <td>4 STRAIGHT VOWELS</td>\n",
       "      <td>'\"The moan of doves in immemorial elms, and murmuring of innumerable bees\" is an example of this literary device'</td>\n",
       "      <td>2000.0</td>\n",
       "      <td>onomatopoeia</td>\n",
       "      <td>What is assonance?</td>\n",
       "      <td>Incorrect. The correct response was \"What is onomatopoeia?\"</td>\n",
       "      <td>False</td>\n",
       "    </tr>\n",
       "    <tr>\n",
       "      <th>19933</th>\n",
       "      <td>buzzy</td>\n",
       "      <td>MIDDLE NAMES</td>\n",
       "      <td>'A Chief Justice:&lt;br /&gt;Hubbs'</td>\n",
       "      <td>1600.0</td>\n",
       "      <td>William H. Renquist</td>\n",
       "      <td>Who is Warren Earl Burger?</td>\n",
       "      <td>Incorrect. The correct response was, \"Who is William H. Rehnquist?\"</td>\n",
       "      <td>False</td>\n",
       "    </tr>\n",
       "    <tr>\n",
       "      <th>14058</th>\n",
       "      <td>cris</td>\n",
       "      <td>ANAGRAMMED FOOD &amp; DRINK</td>\n",
       "      <td>'If you're watching your carbs, eat these plain, not in cakes'</td>\n",
       "      <td>2000.0</td>\n",
       "      <td>crabs (from carbs)</td>\n",
       "      <td>What are pancakes?</td>\n",
       "      <td>Incorrect. The correct response was \"What are crabs?\" from the anagram of \"carbs.\"</td>\n",
       "      <td>False</td>\n",
       "    </tr>\n",
       "    <tr>\n",
       "      <th>17132</th>\n",
       "      <td>austin</td>\n",
       "      <td>PICTURE ME!</td>\n",
       "      <td>'He went from peasant to party chairman &amp; prime minister'</td>\n",
       "      <td>800.0</td>\n",
       "      <td>Nikita Khrushchev</td>\n",
       "      <td>Who is Mao Zedong?</td>\n",
       "      <td>Incorrect. The correct response was \"Who is Nikita Khrushchev?\"</td>\n",
       "      <td>False</td>\n",
       "    </tr>\n",
       "  </tbody>\n",
       "</table>\n",
       "</div>"
      ],
      "text/plain": [
       "        label                 category  \\\n",
       "18621   buzzy               NOT A VERB   \n",
       "15493    cris           3-LETTER WORDS   \n",
       "477       ken                     VANS   \n",
       "395       ken          WHAT'S COOKIN'?   \n",
       "15006    cris                    FOUR!   \n",
       "16699  austin      TO THE \"NTH\" DEGREE   \n",
       "19712   buzzy        4 STRAIGHT VOWELS   \n",
       "19933   buzzy             MIDDLE NAMES   \n",
       "14058    cris  ANAGRAMMED FOOD & DRINK   \n",
       "17132  austin              PICTURE ME!   \n",
       "\n",
       "                                                                                                                question  \\\n",
       "18621                                                                           'Capable,<br />succeed,<br />accomplish'   \n",
       "15493                                                             'A sailor may be a tar or this, also a mass or a lump'   \n",
       "477                   'Columnist Abigail, who opposes smoking, or president Martin, who opposed the annexation of Texas'   \n",
       "395                                                'The U.S. Senate has its own recipe for a soup made from this legume'   \n",
       "15006                                                               'In the English alphabet, it's the fourth consonant'   \n",
       "16699                                                   'If you're an architect you may want to base your column on one'   \n",
       "19712  '\"The moan of doves in immemorial elms, and murmuring of innumerable bees\" is an example of this literary device'   \n",
       "19933                                                                                      'A Chief Justice:<br />Hubbs'   \n",
       "14058                                                     'If you're watching your carbs, eat these plain, not in cakes'   \n",
       "17132                                                          'He went from peasant to party chairman & prime minister'   \n",
       "\n",
       "        value               answer           contestant_answer  \\\n",
       "18621   200.0              capable       What is \"accomplish\"?   \n",
       "15493  1600.0                  gob              What is a tar?   \n",
       "477     200.0            Van Buren  Who are Van Buren and Van?   \n",
       "395     500.0       Navy bean soup          What is bean soup?   \n",
       "15006   200.0                    F                  What is D?   \n",
       "16699   800.0               plinth      What is the Nth order?   \n",
       "19712  2000.0         onomatopoeia          What is assonance?   \n",
       "19933  1600.0  William H. Renquist  Who is Warren Earl Burger?   \n",
       "14058  2000.0   crabs (from carbs)          What are pancakes?   \n",
       "17132   800.0    Nikita Khrushchev          Who is Mao Zedong?   \n",
       "\n",
       "                                                                                judgement  \\\n",
       "18621                              Incorrect. The correct response was \"What is capable?\"   \n",
       "15493                                  Incorrect. The correct response was \"What is gob?\"   \n",
       "477                                      Incorrect. The correct response was \"Van Buren.\"   \n",
       "395                         Incorrect. The correct response was \"What is Navy bean soup?\"   \n",
       "15006                                     Incorrect. The correct response is \"What is F?\"   \n",
       "16699                            Incorrect. The correct response was, \"What is a plinth?\"   \n",
       "19712                         Incorrect. The correct response was \"What is onomatopoeia?\"   \n",
       "19933                 Incorrect. The correct response was, \"Who is William H. Rehnquist?\"   \n",
       "14058  Incorrect. The correct response was \"What are crabs?\" from the anagram of \"carbs.\"   \n",
       "17132                     Incorrect. The correct response was \"Who is Nikita Khrushchev?\"   \n",
       "\n",
       "       correct  \n",
       "18621    False  \n",
       "15493    False  \n",
       "477      False  \n",
       "395      False  \n",
       "15006    False  \n",
       "16699    False  \n",
       "19712    False  \n",
       "19933    False  \n",
       "14058    False  \n",
       "17132    False  "
      ]
     },
     "execution_count": 36,
     "metadata": {},
     "output_type": "execute_result"
    }
   ],
   "source": [
    "used_gpt4 = all_benchmark_results_df['label'].apply(lambda label: 'gpt-4' in jpt.CONTESTANT_NAME_MAP[label])\n",
    "incorrect = all_benchmark_results_df['correct'] == False\n",
    "errors = all_benchmark_results_df[ used_gpt4 & incorrect ]\n",
    "print(errors.shape)\n",
    "pd.set_option('display.max_colwidth', None)\n",
    "errors.sample(10)"
   ]
  },
  {
   "cell_type": "code",
   "execution_count": 12,
   "id": "6c45ff2a-e51c-4210-950b-4d78ba1c8357",
   "metadata": {},
   "outputs": [
    {
     "data": {
      "text/plain": [
       "Index(['label', 'category', 'question', 'value', 'answer', 'contestant_answer',\n",
       "       'judgement', 'correct'],\n",
       "      dtype='object')"
      ]
     },
     "execution_count": 12,
     "metadata": {},
     "output_type": "execute_result"
    }
   ],
   "source": [
    "all_benchmark_results_df.columns"
   ]
  },
  {
   "cell_type": "code",
   "execution_count": 20,
   "id": "d66d44cc-36bd-4c0e-976f-c03686fd689b",
   "metadata": {},
   "outputs": [
    {
     "data": {
      "text/plain": [
       "'What is the Corinthian?'"
      ]
     },
     "execution_count": 20,
     "metadata": {},
     "output_type": "execute_result"
    }
   ],
   "source": [
    "austin('TO THE \"NTH\" DEGREE', \"'If you're an architect you may want to base your column on one'\\n\\nHINT: The category gives you letters the correct answer must contain, the clue tells you the topic or meaning of the word.\")"
   ]
  },
  {
   "cell_type": "code",
   "execution_count": 24,
   "id": "75515f25-91f2-443e-b996-239a9c73882f",
   "metadata": {},
   "outputs": [
    {
     "data": {
      "text/plain": [
       "'What is a meadow?'"
      ]
     },
     "execution_count": 24,
     "metadata": {},
     "output_type": "execute_result"
    }
   ],
   "source": [
    "austin('ON THE LANDSCAPE', \"'It's an open space in the forest, or an air freshener from Drackett'\")"
   ]
  },
  {
   "cell_type": "code",
   "execution_count": 22,
   "id": "91c8feb4-d2bc-4004-b4e2-7335a2f07b34",
   "metadata": {},
   "outputs": [
    {
     "data": {
      "text/plain": [
       "'What is a glade?'"
      ]
     },
     "execution_count": 22,
     "metadata": {},
     "output_type": "execute_result"
    }
   ],
   "source": [
    "austin('ON THE LANDSCAPE', \"'It's an open space in the forest, or an air freshener from Drackett'\\n\\nHINT: Come up with 5 possible responses. Then return the one that best answers both part of the clue\")"
   ]
  },
  {
   "cell_type": "code",
   "execution_count": 25,
   "id": "58a1dcad-a707-4189-975c-482dd7bd43ee",
   "metadata": {},
   "outputs": [
    {
     "data": {
      "text/plain": [
       "'What is a Glade?'"
      ]
     },
     "execution_count": 25,
     "metadata": {},
     "output_type": "execute_result"
    }
   ],
   "source": [
    "austin('ON THE LANDSCAPE', \"'It's an open space in the forest, or an air freshener from Drackett'\\n\\nHINT: Come up with 5 possible responses. Then return the one that best answers both part of the clue\")"
   ]
  },
  {
   "cell_type": "code",
   "execution_count": 30,
   "id": "aebde951-35ae-4f1e-9c04-895f818d87f0",
   "metadata": {},
   "outputs": [
    {
     "data": {
      "text/plain": [
       "'What is \"neurotic\"?'"
      ]
     },
     "execution_count": 30,
     "metadata": {},
     "output_type": "execute_result"
    }
   ],
   "source": [
    "anagram_hint = \"\\n\\nHINT: For anagrams, first write out the word as separate uppercase letters, for example: 'debit card' -> 'D E B I T C A R D' -> 'BAD CREDIT'\"\n",
    "austin('ANAGRAMS', \"'Miguel called Ramon cool; I think he's this, as his therapist might suggest'\" + anagram_hint)"
   ]
  },
  {
   "cell_type": "code",
   "execution_count": 32,
   "id": "a79abad9-f400-45a3-ad99-f89ef2732919",
   "metadata": {},
   "outputs": [
    {
     "data": {
      "text/plain": [
       "'What is \"panel\"?'"
      ]
     },
     "execution_count": 32,
     "metadata": {},
     "output_type": "execute_result"
    }
   ],
   "source": [
    "austin('ANAGRAMS', \"'Ann never wears any gem paler than this one'\" + anagram_hint + \"\\n\\nHINT: the word to anagram is 'pearl'.\")"
   ]
  },
  {
   "cell_type": "code",
   "execution_count": 35,
   "id": "836e5603-488b-4ff7-aa46-17fea0481a44",
   "metadata": {},
   "outputs": [
    {
     "data": {
      "text/plain": [
       "'What is the U.S. Customs and Border Protection?'"
      ]
     },
     "execution_count": 35,
     "metadata": {},
     "output_type": "execute_result"
    }
   ],
   "source": [
    "# typo in question!\n",
    "austin('IN THE TREASURY DEPT.', \"This service's quarantines animals & can stop you from bringing sausages into the country\")"
   ]
  },
  {
   "cell_type": "code",
   "execution_count": 75,
   "id": "8c388a08-24a1-44f4-b7c8-130aed88bc4c",
   "metadata": {},
   "outputs": [],
   "source": [
    "error_sample = errors.sample(100)"
   ]
  },
  {
   "cell_type": "code",
   "execution_count": 82,
   "id": "cc79beb5-4005-4c43-9651-cadf5f460170",
   "metadata": {},
   "outputs": [
    {
     "name": "stdout",
     "output_type": "stream",
     "text": [
      "The autoreload extension is already loaded. To reload it, use:\n",
      "  %reload_ext autoreload\n"
     ]
    }
   ],
   "source": [
    "%load_ext autoreload\n",
    "%autoreload 2\n",
    "import jpt"
   ]
  },
  {
   "cell_type": "code",
   "execution_count": 85,
   "id": "c3e2f7ae-dfa9-4303-a613-8d7dead7419f",
   "metadata": {},
   "outputs": [],
   "source": [
    "@jpt.retry_decorator\n",
    "def gpt4(prompt: str) -> str:\n",
    "    '''Generic call to OpenAI's API.'''\n",
    "\n",
    "    chat_response = jpt.client.chat.completions.create(\n",
    "        model=\"gpt-4-turbo\",\n",
    "        temperature=0.0,\n",
    "        messages=[\n",
    "            {\"role\": \"system\", \"content\": \"You are a helpful assistant.\"},\n",
    "            {\"role\": \"user\", \"content\": prompt}\n",
    "        ]\n",
    "    )\n",
    "    content = chat_response.choices[0].message.content\n",
    "    return content"
   ]
  },
  {
   "cell_type": "code",
   "execution_count": 86,
   "id": "f032a768-1581-4d80-a81e-eae338d4ae27",
   "metadata": {},
   "outputs": [
    {
     "data": {
      "application/vnd.jupyter.widget-view+json": {
       "model_id": "5ca42e4f53874f94a3a01a3e5c6302d9",
       "version_major": 2,
       "version_minor": 0
      },
      "text/plain": [
       "Output()"
      ]
     },
     "metadata": {},
     "output_type": "display_data"
    },
    {
     "data": {
      "text/html": [
       "<pre style=\"white-space:pre;overflow-x:auto;line-height:normal;font-family:Menlo,'DejaVu Sans Mono',consolas,'Courier New',monospace\"></pre>\n"
      ],
      "text/plain": []
     },
     "metadata": {},
     "output_type": "display_data"
    },
    {
     "data": {
      "text/html": [
       "<pre style=\"white-space:pre;overflow-x:auto;line-height:normal;font-family:Menlo,'DejaVu Sans Mono',consolas,'Courier New',monospace\">\n",
       "</pre>\n"
      ],
      "text/plain": [
       "\n"
      ]
     },
     "metadata": {},
     "output_type": "display_data"
    }
   ],
   "source": [
    "judgements = []\n",
    "\n",
    "from tqdm.notebook import tqdm\n",
    "\n",
    "for id, question in tqdm(list(error_sample.iterrows())):\n",
    "    category = question['category']\n",
    "    clue = question['question']\n",
    "    answer = question['answer']\n",
    "    formatted_question = (\n",
    "        f\"Category: {category}\\n\"\n",
    "        f\"Clue: {clue}\\n\"\n",
    "        f\"Correct Answer: {answer}\\n\"\n",
    "    )\n",
    "    # print(formatted_question)\n",
    "    prompt = (\n",
    "        \"Find mistakes in this Jeopardy! question:\\n\"\n",
    "        f\"{formatted_question}\"\n",
    "        \"\\n\"\n",
    "        \"Rubric:\\n\"\n",
    "        \"If the question cannot be answered because of a missing audio reference, begin your answer with 'AUDIO'.\\n\"\n",
    "        \"If the question cannot be answered because of a missing image or video reference, begin your answer with 'VISUAL'.\\n\"\n",
    "        \"If the question has no serious errors, answer with the single word 'NONE' and nothing else.\\n\"\n",
    "        \"Answer in one word and only one word. Your answer must be AUDIO, VISUAL, or NONE. No other answers are acceptable.\\n\"\n",
    "    )\n",
    "    fairness = jpt.gpt4(prompt)\n",
    "    # print(fairness)\n",
    "    judgements.append({'id': id, 'category': category, 'clue': clue, 'answer': answer, 'fairness': fairness })"
   ]
  },
  {
   "cell_type": "code",
   "execution_count": 87,
   "id": "7bc2ca3a-f299-42dd-8647-16c5bf2a71ab",
   "metadata": {},
   "outputs": [
    {
     "data": {
      "text/html": [
       "<div>\n",
       "<style scoped>\n",
       "    .dataframe tbody tr th:only-of-type {\n",
       "        vertical-align: middle;\n",
       "    }\n",
       "\n",
       "    .dataframe tbody tr th {\n",
       "        vertical-align: top;\n",
       "    }\n",
       "\n",
       "    .dataframe thead th {\n",
       "        text-align: right;\n",
       "    }\n",
       "</style>\n",
       "<table border=\"1\" class=\"dataframe\">\n",
       "  <thead>\n",
       "    <tr style=\"text-align: right;\">\n",
       "      <th></th>\n",
       "      <th>id</th>\n",
       "      <th>category</th>\n",
       "      <th>clue</th>\n",
       "      <th>answer</th>\n",
       "      <th>fairness</th>\n",
       "    </tr>\n",
       "  </thead>\n",
       "  <tbody>\n",
       "    <tr>\n",
       "      <th>9</th>\n",
       "      <td>14049</td>\n",
       "      <td>FOR BIRD BRAINS</td>\n",
       "      <td>'Named for a prominent feature, it's the bird seen here'</td>\n",
       "      <td>the Roseate Spoonbill</td>\n",
       "      <td>VISUAL</td>\n",
       "    </tr>\n",
       "    <tr>\n",
       "      <th>10</th>\n",
       "      <td>14680</td>\n",
       "      <td>THE LIQUOR CABINET</td>\n",
       "      <td>'It's smooth sailing for this brand of smooth Scotch whisky, whose logo is seen here'</td>\n",
       "      <td>Cutty Sark</td>\n",
       "      <td>VISUAL</td>\n",
       "    </tr>\n",
       "    <tr>\n",
       "      <th>11</th>\n",
       "      <td>17824</td>\n",
       "      <td>NAMES IN THE NUDE</td>\n",
       "      <td>'Actress seen here on a Times Square billboard from People for the Ethical Treatment of Animals'</td>\n",
       "      <td>Pamela Anderson Lee</td>\n",
       "      <td>VISUAL</td>\n",
       "    </tr>\n",
       "    <tr>\n",
       "      <th>20</th>\n",
       "      <td>18429</td>\n",
       "      <td>SPELL IT OUT FOR ME!</td>\n",
       "      <td>'We'll all sing your praises when you spell...'</td>\n",
       "      <td>C-H-O-I-R</td>\n",
       "      <td>AUDIO</td>\n",
       "    </tr>\n",
       "    <tr>\n",
       "      <th>61</th>\n",
       "      <td>18067</td>\n",
       "      <td>PULL</td>\n",
       "      <td>'Word on the 2 buttons that preceded this one:&lt;br /&gt;(Curly in a \"Three Stooges\" clip showing a button marked \"Pull\")'</td>\n",
       "      <td>Press</td>\n",
       "      <td>VISUAL</td>\n",
       "    </tr>\n",
       "    <tr>\n",
       "      <th>68</th>\n",
       "      <td>19313</td>\n",
       "      <td>SEASONS</td>\n",
       "      <td>'This herb helped cure the treat seen here, so the herb's in its name'</td>\n",
       "      <td>Dill (pickle)</td>\n",
       "      <td>VISUAL</td>\n",
       "    </tr>\n",
       "    <tr>\n",
       "      <th>71</th>\n",
       "      <td>17957</td>\n",
       "      <td>TECH TV</td>\n",
       "      <td>'It's the workhorse fighter plane profiled here in \"Future Fighting Machines\"'</td>\n",
       "      <td>F-15 (the Eagle)</td>\n",
       "      <td>AUDIO</td>\n",
       "    </tr>\n",
       "    <tr>\n",
       "      <th>73</th>\n",
       "      <td>453</td>\n",
       "      <td>\"RAP\" SHEET</td>\n",
       "      <td>'\"I'm Not\" this guy in a Tony Award-winning play from 1986'</td>\n",
       "      <td>Rappaport</td>\n",
       "      <td>AUDIO</td>\n",
       "    </tr>\n",
       "  </tbody>\n",
       "</table>\n",
       "</div>"
      ],
      "text/plain": [
       "       id              category  \\\n",
       "9   14049       FOR BIRD BRAINS   \n",
       "10  14680    THE LIQUOR CABINET   \n",
       "11  17824     NAMES IN THE NUDE   \n",
       "20  18429  SPELL IT OUT FOR ME!   \n",
       "61  18067                  PULL   \n",
       "68  19313               SEASONS   \n",
       "71  17957               TECH TV   \n",
       "73    453           \"RAP\" SHEET   \n",
       "\n",
       "                                                                                                                     clue  \\\n",
       "9                                                                'Named for a prominent feature, it's the bird seen here'   \n",
       "10                                  'It's smooth sailing for this brand of smooth Scotch whisky, whose logo is seen here'   \n",
       "11                       'Actress seen here on a Times Square billboard from People for the Ethical Treatment of Animals'   \n",
       "20                                                                        'We'll all sing your praises when you spell...'   \n",
       "61  'Word on the 2 buttons that preceded this one:<br />(Curly in a \"Three Stooges\" clip showing a button marked \"Pull\")'   \n",
       "68                                                 'This herb helped cure the treat seen here, so the herb's in its name'   \n",
       "71                                         'It's the workhorse fighter plane profiled here in \"Future Fighting Machines\"'   \n",
       "73                                                            '\"I'm Not\" this guy in a Tony Award-winning play from 1986'   \n",
       "\n",
       "                   answer fairness  \n",
       "9   the Roseate Spoonbill   VISUAL  \n",
       "10             Cutty Sark   VISUAL  \n",
       "11    Pamela Anderson Lee   VISUAL  \n",
       "20              C-H-O-I-R    AUDIO  \n",
       "61                  Press   VISUAL  \n",
       "68          Dill (pickle)   VISUAL  \n",
       "71       F-15 (the Eagle)    AUDIO  \n",
       "73              Rappaport    AUDIO  "
      ]
     },
     "execution_count": 87,
     "metadata": {},
     "output_type": "execute_result"
    }
   ],
   "source": [
    "judgements_df = pd.DataFrame.from_records(judgements)\n",
    "audio = judgements_df['fairness'] == 'AUDIO'\n",
    "visual = judgements_df['fairness'] == 'VISUAL'\n",
    "judgements_df[ audio | visual ]"
   ]
  },
  {
   "cell_type": "code",
   "execution_count": null,
   "id": "27357a6b-7f79-4620-9f53-90a3106bae0f",
   "metadata": {},
   "outputs": [],
   "source": []
  }
 ],
 "metadata": {
  "kernelspec": {
   "display_name": "Python 3 (ipykernel)",
   "language": "python",
   "name": "python3"
  },
  "language_info": {
   "codemirror_mode": {
    "name": "ipython",
    "version": 3
   },
   "file_extension": ".py",
   "mimetype": "text/x-python",
   "name": "python",
   "nbconvert_exporter": "python",
   "pygments_lexer": "ipython3",
   "version": "3.12.3"
  }
 },
 "nbformat": 4,
 "nbformat_minor": 5
}
