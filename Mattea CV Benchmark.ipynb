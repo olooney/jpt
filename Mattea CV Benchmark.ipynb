{
 "cells": [
  {
   "cell_type": "code",
   "execution_count": 4,
   "id": "7769cfed-9649-451f-a74d-429e4bcbfcd0",
   "metadata": {},
   "outputs": [],
   "source": [
    "import jpt\n",
    "from jpt import (\n",
    "    alex,\n",
    "    mattea,\n",
    "    load_jeopardy_dataset,\n",
    "    jeopardy_benchmark,\n",
    "    evaluate_jeopardy_benchmarks,\n",
    "    plot_evaluations\n",
    ")\n",
    "import pandas as pd\n",
    "import os"
   ]
  },
  {
   "cell_type": "code",
   "execution_count": 5,
   "id": "45fc9372-98f6-4211-9704-f6d852ccb082",
   "metadata": {},
   "outputs": [],
   "source": [
    "jeopardy_data = load_jeopardy_dataset(remove_unfair=True)\n",
    "split_date = '2011-01-01'\n",
    "jeopardy_new = [ q for q in jeopardy_data if q['air_date'] >= split_date ]\n",
    "del jeopardy_data"
   ]
  },
  {
   "cell_type": "code",
   "execution_count": 7,
   "id": "2b2eeca1-6917-444a-8ff2-20d2ea55161d",
   "metadata": {},
   "outputs": [
    {
     "name": "stdout",
     "output_type": "stream",
     "text": [
      "................................................................................................................................................................................................................................................................................................................................................................................................................................................................................................................................................................................................................................................................................................................................................................................................................................................................................................................................................................................................................................................................................................................................................................................................................................................................................................................................................................................................................................................................................................................................................................................................................................................................................................................................................................................................................................................................................................................................................................................................................................................................................"
     ]
    }
   ],
   "source": [
    "mattea_benchmark_results_df = jeopardy_benchmark(\n",
    "    contestant=mattea,\n",
    "    dataset=jeopardy_new,\n",
    "    sample_size=2000)"
   ]
  },
  {
   "cell_type": "code",
   "execution_count": 12,
   "id": "efa6cdf7-8c44-4114-ae2a-14c1b819127c",
   "metadata": {},
   "outputs": [],
   "source": [
    "mattea_benchmark_results_df['label'] = 'mattea'"
   ]
  },
  {
   "cell_type": "code",
   "execution_count": 13,
   "id": "1cb87f47-bb5b-4acd-bc34-6e55e8cfcfd6",
   "metadata": {},
   "outputs": [
    {
     "data": {
      "text/plain": [
       "(12000, 8)"
      ]
     },
     "execution_count": 13,
     "metadata": {},
     "output_type": "execute_result"
    }
   ],
   "source": [
    "old_benchmark_results_df = pd.read_csv(os.path.join(jpt.JEOPARDY_DATA_DIR, r'all_benchmark_results_2024-05-11.csv'))\n",
    "\n",
    "# double check mattea's not in there\n",
    "old_benchmark_results_df = old_benchmark_results_df[ old_benchmark_results_df['label'] != 'mattea' ]\n",
    "old_benchmark_results_df.shape"
   ]
  },
  {
   "cell_type": "code",
   "execution_count": 14,
   "id": "c405efe4-09f2-4c2f-b5aa-785be5469bc3",
   "metadata": {},
   "outputs": [
    {
     "data": {
      "text/plain": [
       "(14000, 8)"
      ]
     },
     "execution_count": 14,
     "metadata": {},
     "output_type": "execute_result"
    }
   ],
   "source": [
    "all_benchmark_results_df = pd.concat([\n",
    "    old_benchmark_results_df, \n",
    "    mattea_benchmark_results_df\n",
    "])\n",
    "all_benchmark_results_df.shape"
   ]
  },
  {
   "cell_type": "code",
   "execution_count": 15,
   "id": "91a909e0-5441-4e80-bb2b-4ca7e4b03f3e",
   "metadata": {},
   "outputs": [
    {
     "data": {
      "text/html": [
       "<div>\n",
       "<style scoped>\n",
       "    .dataframe tbody tr th:only-of-type {\n",
       "        vertical-align: middle;\n",
       "    }\n",
       "\n",
       "    .dataframe tbody tr th {\n",
       "        vertical-align: top;\n",
       "    }\n",
       "\n",
       "    .dataframe thead th {\n",
       "        text-align: right;\n",
       "    }\n",
       "</style>\n",
       "<table border=\"1\" class=\"dataframe\">\n",
       "  <thead>\n",
       "    <tr style=\"text-align: right;\">\n",
       "      <th></th>\n",
       "      <th>label</th>\n",
       "      <th>successes</th>\n",
       "      <th>failures</th>\n",
       "      <th>sample_size</th>\n",
       "      <th>success_rate</th>\n",
       "      <th>standard_error</th>\n",
       "      <th>name</th>\n",
       "    </tr>\n",
       "  </thead>\n",
       "  <tbody>\n",
       "    <tr>\n",
       "      <th>1</th>\n",
       "      <td>ken</td>\n",
       "      <td>1924</td>\n",
       "      <td>76</td>\n",
       "      <td>2000</td>\n",
       "      <td>0.9620</td>\n",
       "      <td>0.004288</td>\n",
       "      <td>Ken Jennings\\n(gpt-4-turbo)</td>\n",
       "    </tr>\n",
       "    <tr>\n",
       "      <th>0</th>\n",
       "      <td>amy</td>\n",
       "      <td>1856</td>\n",
       "      <td>144</td>\n",
       "      <td>2000</td>\n",
       "      <td>0.9280</td>\n",
       "      <td>0.005788</td>\n",
       "      <td>Amy Schneider\\n(gpt-3.5-fine-tuned)</td>\n",
       "    </tr>\n",
       "    <tr>\n",
       "      <th>5</th>\n",
       "      <td>james</td>\n",
       "      <td>1791</td>\n",
       "      <td>209</td>\n",
       "      <td>2000</td>\n",
       "      <td>0.8955</td>\n",
       "      <td>0.006846</td>\n",
       "      <td>James Holzhauer\\n(gpt-3.5-turbo)</td>\n",
       "    </tr>\n",
       "    <tr>\n",
       "      <th>4</th>\n",
       "      <td>brad</td>\n",
       "      <td>1790</td>\n",
       "      <td>210</td>\n",
       "      <td>2000</td>\n",
       "      <td>0.8950</td>\n",
       "      <td>0.006860</td>\n",
       "      <td>Brad Rutter\\n(llama3:70b)</td>\n",
       "    </tr>\n",
       "    <tr>\n",
       "      <th>6</th>\n",
       "      <td>mattea</td>\n",
       "      <td>1567</td>\n",
       "      <td>433</td>\n",
       "      <td>2000</td>\n",
       "      <td>0.7835</td>\n",
       "      <td>0.009212</td>\n",
       "      <td>Mattea Roach\\n(llama3:8b + RAG)</td>\n",
       "    </tr>\n",
       "    <tr>\n",
       "      <th>2</th>\n",
       "      <td>larissa</td>\n",
       "      <td>1257</td>\n",
       "      <td>743</td>\n",
       "      <td>2000</td>\n",
       "      <td>0.6285</td>\n",
       "      <td>0.010805</td>\n",
       "      <td>Larissa Kelly\\n(llama3:8b)</td>\n",
       "    </tr>\n",
       "    <tr>\n",
       "      <th>3</th>\n",
       "      <td>david</td>\n",
       "      <td>1196</td>\n",
       "      <td>804</td>\n",
       "      <td>2000</td>\n",
       "      <td>0.5980</td>\n",
       "      <td>0.010964</td>\n",
       "      <td>David Madden\\n(llama2:7b)</td>\n",
       "    </tr>\n",
       "  </tbody>\n",
       "</table>\n",
       "</div>"
      ],
      "text/plain": [
       "     label  successes  failures  sample_size  success_rate  standard_error  \\\n",
       "1      ken       1924        76         2000        0.9620        0.004288   \n",
       "0      amy       1856       144         2000        0.9280        0.005788   \n",
       "5    james       1791       209         2000        0.8955        0.006846   \n",
       "4     brad       1790       210         2000        0.8950        0.006860   \n",
       "6   mattea       1567       433         2000        0.7835        0.009212   \n",
       "2  larissa       1257       743         2000        0.6285        0.010805   \n",
       "3    david       1196       804         2000        0.5980        0.010964   \n",
       "\n",
       "                                  name  \n",
       "1          Ken Jennings\\n(gpt-4-turbo)  \n",
       "0  Amy Schneider\\n(gpt-3.5-fine-tuned)  \n",
       "5     James Holzhauer\\n(gpt-3.5-turbo)  \n",
       "4            Brad Rutter\\n(llama3:70b)  \n",
       "6      Mattea Roach\\n(llama3:8b + RAG)  \n",
       "2           Larissa Kelly\\n(llama3:8b)  \n",
       "3            David Madden\\n(llama2:7b)  "
      ]
     },
     "execution_count": 15,
     "metadata": {},
     "output_type": "execute_result"
    }
   ],
   "source": [
    "jeopardy_benchmark_evaluations_df = evaluate_jeopardy_benchmarks(all_benchmark_results_df)\n",
    "jeopardy_benchmark_evaluations_df"
   ]
  },
  {
   "cell_type": "code",
   "execution_count": 23,
   "id": "a0346a77-bdac-4cf8-be08-f2593db3b628",
   "metadata": {},
   "outputs": [
    {
     "name": "stdout",
     "output_type": "stream",
     "text": [
      "| Contestant      | Model              | Successes   |   Failures | Sample Size   | Success Rate   | 95% CI   |\n",
      "|:----------------|:-------------------|:------------|-----------:|:--------------|:---------------|:---------|\n",
      "| Ken Jennings    | gpt-4-turbo        | 1,924       |         76 | 2,000         | 96.20%         | ±0.84%   |\n",
      "| Amy Schneider   | gpt-3.5-fine-tuned | 1,856       |        144 | 2,000         | 92.80%         | ±1.13%   |\n",
      "| James Holzhauer | gpt-3.5-turbo      | 1,791       |        209 | 2,000         | 89.55%         | ±1.34%   |\n",
      "| Brad Rutter     | llama3:70b         | 1,790       |        210 | 2,000         | 89.50%         | ±1.34%   |\n",
      "| Mattea Roach    | llama3:8b + RAG    | 1,567       |        433 | 2,000         | 78.35%         | ±1.81%   |\n",
      "| Larissa Kelly   | llama3:8b          | 1,257       |        743 | 2,000         | 62.85%         | ±2.12%   |\n",
      "| David Madden    | llama2:7b          | 1,196       |        804 | 2,000         | 59.80%         | ±2.15%   |\n"
     ]
    }
   ],
   "source": [
    "df = jeopardy_benchmark_evaluations_df.copy()\n",
    "df.reset_index(drop=True, inplace=True)\n",
    "\n",
    "# split name/model into separate columns\n",
    "name_split = df['name'].str.split('\\n', expand=True)\n",
    "df.insert(0, 'model', name_split[1].str[1:-1])\n",
    "df.insert(0, 'Contestant', name_split[0])\n",
    "df.drop(columns=['label', 'name'], inplace=True)\n",
    "\n",
    "# formatting\n",
    "df['successes'] = df['successes'].apply(lambda x: f'{x:,}')\n",
    "df['failures'] = df['failures'].apply(lambda x: f'{x:,}')\n",
    "df['sample_size'] = df['sample_size'].apply(lambda x: f'{x:,}')\n",
    "df['success_rate'] = df['success_rate'].apply(lambda p: f'{p*100:0.2f}%')\n",
    "df['standard_error'] = df['standard_error'].apply(lambda p: f'±{p*196:0.2f}%')\n",
    "\n",
    "df.columns = ['Contestant', 'Model', 'Successes', 'Failures', 'Sample Size', 'Success Rate', '95% CI']\n",
    "print(df.to_markdown(index=False))"
   ]
  },
  {
   "cell_type": "code",
   "execution_count": 24,
   "id": "3cca0a29-7d35-4f0c-b2e0-f4bfb3b9c197",
   "metadata": {},
   "outputs": [
    {
     "data": {
      "image/png": "[encoded data removed]",
      "text/plain": [
       "<Figure size 1048.31x698.087 with 1 Axes>"
      ]
     },
     "metadata": {},
     "output_type": "display_data"
    }
   ],
   "source": [
    "# Plotting the bar chart with error bars\n",
    "plot_evaluations(jeopardy_benchmark_evaluations_df)"
   ]
  },
  {
   "cell_type": "code",
   "execution_count": 25,
   "id": "77004bb1-d67e-4f95-a9c0-6d8ab329c312",
   "metadata": {},
   "outputs": [
    {
     "name": "stdout",
     "output_type": "stream",
     "text": [
      "wrote C:\\Users\\oloon\\Dropbox\\data\\jeopardy\\jeopardy_benchmark_evaluations_2024-05-13.csv\n",
      "wrote C:\\Users\\oloon\\Dropbox\\data\\jeopardy\\all_benchmark_results_2024-05-13.csv\n"
     ]
    }
   ],
   "source": [
    "from util import now\n",
    "timestamp = now(False)\n",
    "eval_filename = os.path.join(jpt.JEOPARDY_DATA_DIR, f'jeopardy_benchmark_evaluations_{timestamp}.csv')\n",
    "print('wrote', eval_filename)\n",
    "jeopardy_benchmark_evaluations_df.to_csv(eval_filename, index=False)\n",
    "\n",
    "benchmark_filename = os.path.join(jpt.JEOPARDY_DATA_DIR, f'all_benchmark_results_{timestamp}.csv')\n",
    "all_benchmark_results_df.to_csv(benchmark_filename, index=False)\n",
    "print('wrote', benchmark_filename)"
   ]
  },
  {
   "cell_type": "code",
   "execution_count": null,
   "id": "87067517-39cb-4cef-9192-44fe82969af9",
   "metadata": {},
   "outputs": [],
   "source": []
  }
 ],
 "metadata": {
  "kernelspec": {
   "display_name": "Python 3 (ipykernel)",
   "language": "python",
   "name": "python3"
  },
  "language_info": {
   "codemirror_mode": {
    "name": "ipython",
    "version": 3
   },
   "file_extension": ".py",
   "mimetype": "text/x-python",
   "name": "python",
   "nbconvert_exporter": "python",
   "pygments_lexer": "ipython3",
   "version": "3.11.3"
  }
 },
 "nbformat": 4,
 "nbformat_minor": 5
}
