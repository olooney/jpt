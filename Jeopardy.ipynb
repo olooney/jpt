{
 "cells": [
  {
   "cell_type": "code",
   "execution_count": 2,
   "id": "4a43e6b6-bb06-4adf-8dc9-17868574b826",
   "metadata": {},
   "outputs": [],
   "source": [
    "import numpy as np\n",
    "import pandas as pd\n",
    "from typing import Union\n",
    "import logging\n",
    "import sys\n",
    "\n",
    "import faiss\n",
    "\n",
    "from jpt import (\n",
    "    ken,\n",
    "    alex,\n",
    "    embed,\n",
    "    load_jeopardy_dataset,\n",
    "    load_jeopardy_index,\n",
    "    load_jeopardy_embedding_data,\n",
    "    clean_currency,\n",
    "    index_search,\n",
    "    brute_force_search\n",
    ")"
   ]
  },
  {
   "cell_type": "code",
   "execution_count": 3,
   "id": "aa520665-58d2-4c05-9a13-18181f7f05c4",
   "metadata": {},
   "outputs": [],
   "source": [
    "pd.set_option('display.max_colwidth', None)\n",
    "\n",
    "logging.basicConfig(stream=sys.stderr, level=logging.ERROR)\n",
    "logger = logging.getLogger(__name__)"
   ]
  },
  {
   "cell_type": "code",
   "execution_count": 4,
   "id": "7d12c4ce-d0dc-4332-a389-acadbeececf0",
   "metadata": {},
   "outputs": [],
   "source": [
    "%load_ext autoreload\n",
    "%autoreload 2"
   ]
  },
  {
   "cell_type": "code",
   "execution_count": 5,
   "id": "cea07d2b-003b-4485-a20f-6f8aa49b8fc6",
   "metadata": {},
   "outputs": [],
   "source": [
    "jeopardy = load_jeopardy_embedding_data()\n",
    "for question in jeopardy.data:\n",
    "    question['value'] = clean_currency(question['value'])\n",
    "    question['has_link'] = ('<a href' in question['question'])"
   ]
  },
  {
   "cell_type": "code",
   "execution_count": 6,
   "id": "23da52c2-8f36-49c4-8715-f6e5675bf914",
   "metadata": {},
   "outputs": [],
   "source": [
    "jeopardy_index = load_jeopardy_index()"
   ]
  },
  {
   "cell_type": "code",
   "execution_count": 6,
   "id": "4177ef03-e1fd-43ce-8594-3c667ee652dc",
   "metadata": {},
   "outputs": [
    {
     "data": {
      "text/html": [
       "<div>\n",
       "<style scoped>\n",
       "    .dataframe tbody tr th:only-of-type {\n",
       "        vertical-align: middle;\n",
       "    }\n",
       "\n",
       "    .dataframe tbody tr th {\n",
       "        vertical-align: top;\n",
       "    }\n",
       "\n",
       "    .dataframe thead th {\n",
       "        text-align: right;\n",
       "    }\n",
       "</style>\n",
       "<table border=\"1\" class=\"dataframe\">\n",
       "  <thead>\n",
       "    <tr style=\"text-align: right;\">\n",
       "      <th></th>\n",
       "      <th>category</th>\n",
       "      <th>air_date</th>\n",
       "      <th>question</th>\n",
       "      <th>value</th>\n",
       "      <th>answer</th>\n",
       "      <th>round</th>\n",
       "      <th>show_number</th>\n",
       "      <th>has_link</th>\n",
       "      <th>distance</th>\n",
       "    </tr>\n",
       "  </thead>\n",
       "  <tbody>\n",
       "    <tr>\n",
       "      <th>0</th>\n",
       "      <td>MUSIC</td>\n",
       "      <td>1995-11-13</td>\n",
       "      <td>'Styles of music in the titles of the JVC &amp; Playboy festivals'</td>\n",
       "      <td>600.0</td>\n",
       "      <td>Jazz</td>\n",
       "      <td>Double Jeopardy!</td>\n",
       "      <td>2576</td>\n",
       "      <td>False</td>\n",
       "      <td>0.280104</td>\n",
       "    </tr>\n",
       "    <tr>\n",
       "      <th>1</th>\n",
       "      <td>MUSICAL STYLINGS</td>\n",
       "      <td>2011-09-22</td>\n",
       "      <td>'Sandra Booker, Nina Simone &amp; Esperanza Spalding are all sultry chanteuses of this 4-letter musical genre'</td>\n",
       "      <td>400.0</td>\n",
       "      <td>jazz</td>\n",
       "      <td>Double Jeopardy!</td>\n",
       "      <td>6209</td>\n",
       "      <td>False</td>\n",
       "      <td>0.293485</td>\n",
       "    </tr>\n",
       "    <tr>\n",
       "      <th>2</th>\n",
       "      <td>ALL THAT JAZZ</td>\n",
       "      <td>1997-10-31</td>\n",
       "      <td>'This 1960s style pioneered by Ornette Coleman \"liberated\" improvisers from set melodies'</td>\n",
       "      <td>1000.0</td>\n",
       "      <td>free jazz</td>\n",
       "      <td>Double Jeopardy!</td>\n",
       "      <td>3030</td>\n",
       "      <td>False</td>\n",
       "      <td>0.294299</td>\n",
       "    </tr>\n",
       "    <tr>\n",
       "      <th>3</th>\n",
       "      <td>BOOKS &amp; AUTHORS</td>\n",
       "      <td>1992-10-29</td>\n",
       "      <td>'Type of music that's the title of Toni Morrison's 1992 novel set in 1926 Harlem'</td>\n",
       "      <td>400.0</td>\n",
       "      <td>Jazz</td>\n",
       "      <td>Double Jeopardy!</td>\n",
       "      <td>1874</td>\n",
       "      <td>False</td>\n",
       "      <td>0.299384</td>\n",
       "    </tr>\n",
       "    <tr>\n",
       "      <th>4</th>\n",
       "      <td>STARTS WITH \"J\"</td>\n",
       "      <td>1996-07-17</td>\n",
       "      <td>'Swing was the most popular style of this music in the 1930s'</td>\n",
       "      <td>300.0</td>\n",
       "      <td>Jazz</td>\n",
       "      <td>Jeopardy!</td>\n",
       "      <td>2753</td>\n",
       "      <td>False</td>\n",
       "      <td>0.305021</td>\n",
       "    </tr>\n",
       "  </tbody>\n",
       "</table>\n",
       "</div>"
      ],
      "text/plain": [
       "           category    air_date  \\\n",
       "0             MUSIC  1995-11-13   \n",
       "1  MUSICAL STYLINGS  2011-09-22   \n",
       "2     ALL THAT JAZZ  1997-10-31   \n",
       "3   BOOKS & AUTHORS  1992-10-29   \n",
       "4   STARTS WITH \"J\"  1996-07-17   \n",
       "\n",
       "                                                                                                     question  \\\n",
       "0                                              'Styles of music in the titles of the JVC & Playboy festivals'   \n",
       "1  'Sandra Booker, Nina Simone & Esperanza Spalding are all sultry chanteuses of this 4-letter musical genre'   \n",
       "2                   'This 1960s style pioneered by Ornette Coleman \"liberated\" improvisers from set melodies'   \n",
       "3                           'Type of music that's the title of Toni Morrison's 1992 novel set in 1926 Harlem'   \n",
       "4                                               'Swing was the most popular style of this music in the 1930s'   \n",
       "\n",
       "    value     answer             round show_number  has_link  distance  \n",
       "0   600.0       Jazz  Double Jeopardy!        2576     False  0.280104  \n",
       "1   400.0       jazz  Double Jeopardy!        6209     False  0.293485  \n",
       "2  1000.0  free jazz  Double Jeopardy!        3030     False  0.294299  \n",
       "3   400.0       Jazz  Double Jeopardy!        1874     False  0.299384  \n",
       "4   300.0       Jazz         Jeopardy!        2753     False  0.305021  "
      ]
     },
     "execution_count": 6,
     "metadata": {},
     "output_type": "execute_result"
    }
   ],
   "source": [
    "results_df = pd.DataFrame.from_records(index_search(jeopardy_index, jeopardy.data, \"Jazz\", k=5))\n",
    "results_df"
   ]
  },
  {
   "cell_type": "code",
   "execution_count": 8,
   "id": "2aeeac82-6990-48ba-ad7f-f556be93da3f",
   "metadata": {},
   "outputs": [
    {
     "data": {
      "text/plain": [
       "[{'category': 'MUSIC',\n",
       "  'air_date': '1995-11-13',\n",
       "  'question': \"'Styles of music in the titles of the JVC & Playboy festivals'\",\n",
       "  'value': 600.0,\n",
       "  'answer': 'Jazz',\n",
       "  'round': 'Double Jeopardy!',\n",
       "  'show_number': '2576',\n",
       "  'has_link': False,\n",
       "  'distance': 0.28010377},\n",
       " {'category': 'MUSICAL STYLINGS',\n",
       "  'air_date': '2011-09-22',\n",
       "  'question': \"'Sandra Booker, Nina Simone & Esperanza Spalding are all sultry chanteuses of this 4-letter musical genre'\",\n",
       "  'value': 400.0,\n",
       "  'answer': 'jazz',\n",
       "  'round': 'Double Jeopardy!',\n",
       "  'show_number': '6209',\n",
       "  'has_link': False,\n",
       "  'distance': 0.29348546}]"
      ]
     },
     "execution_count": 8,
     "metadata": {},
     "output_type": "execute_result"
    }
   ],
   "source": [
    "index_search(jeopardy_index, jeopardy.data, \"Jazz\", k=2)"
   ]
  },
  {
   "cell_type": "code",
   "execution_count": 7,
   "id": "8b12cb7b-42ca-4b7d-b43e-dc8a05585196",
   "metadata": {},
   "outputs": [
    {
     "data": {
      "text/html": [
       "<div>\n",
       "<style scoped>\n",
       "    .dataframe tbody tr th:only-of-type {\n",
       "        vertical-align: middle;\n",
       "    }\n",
       "\n",
       "    .dataframe tbody tr th {\n",
       "        vertical-align: top;\n",
       "    }\n",
       "\n",
       "    .dataframe thead th {\n",
       "        text-align: right;\n",
       "    }\n",
       "</style>\n",
       "<table border=\"1\" class=\"dataframe\">\n",
       "  <thead>\n",
       "    <tr style=\"text-align: right;\">\n",
       "      <th></th>\n",
       "      <th>category</th>\n",
       "      <th>air_date</th>\n",
       "      <th>question</th>\n",
       "      <th>value</th>\n",
       "      <th>answer</th>\n",
       "      <th>round</th>\n",
       "      <th>show_number</th>\n",
       "      <th>has_link</th>\n",
       "      <th>distance</th>\n",
       "    </tr>\n",
       "  </thead>\n",
       "  <tbody>\n",
       "    <tr>\n",
       "      <th>0</th>\n",
       "      <td>MUSIC</td>\n",
       "      <td>1995-11-13</td>\n",
       "      <td>'Styles of music in the titles of the JVC &amp; Playboy festivals'</td>\n",
       "      <td>600.0</td>\n",
       "      <td>Jazz</td>\n",
       "      <td>Double Jeopardy!</td>\n",
       "      <td>2576</td>\n",
       "      <td>False</td>\n",
       "      <td>0.280103</td>\n",
       "    </tr>\n",
       "    <tr>\n",
       "      <th>1</th>\n",
       "      <td>MUSICAL STYLINGS</td>\n",
       "      <td>2011-09-22</td>\n",
       "      <td>'Sandra Booker, Nina Simone &amp; Esperanza Spalding are all sultry chanteuses of this 4-letter musical genre'</td>\n",
       "      <td>400.0</td>\n",
       "      <td>jazz</td>\n",
       "      <td>Double Jeopardy!</td>\n",
       "      <td>6209</td>\n",
       "      <td>False</td>\n",
       "      <td>0.293485</td>\n",
       "    </tr>\n",
       "    <tr>\n",
       "      <th>2</th>\n",
       "      <td>ALL THAT JAZZ</td>\n",
       "      <td>1997-10-31</td>\n",
       "      <td>'This 1960s style pioneered by Ornette Coleman \"liberated\" improvisers from set melodies'</td>\n",
       "      <td>1000.0</td>\n",
       "      <td>free jazz</td>\n",
       "      <td>Double Jeopardy!</td>\n",
       "      <td>3030</td>\n",
       "      <td>False</td>\n",
       "      <td>0.294298</td>\n",
       "    </tr>\n",
       "    <tr>\n",
       "      <th>3</th>\n",
       "      <td>BOOKS &amp; AUTHORS</td>\n",
       "      <td>1992-10-29</td>\n",
       "      <td>'Type of music that's the title of Toni Morrison's 1992 novel set in 1926 Harlem'</td>\n",
       "      <td>400.0</td>\n",
       "      <td>Jazz</td>\n",
       "      <td>Double Jeopardy!</td>\n",
       "      <td>1874</td>\n",
       "      <td>False</td>\n",
       "      <td>0.299384</td>\n",
       "    </tr>\n",
       "    <tr>\n",
       "      <th>4</th>\n",
       "      <td>STARTS WITH \"J\"</td>\n",
       "      <td>1996-07-17</td>\n",
       "      <td>'Swing was the most popular style of this music in the 1930s'</td>\n",
       "      <td>300.0</td>\n",
       "      <td>Jazz</td>\n",
       "      <td>Jeopardy!</td>\n",
       "      <td>2753</td>\n",
       "      <td>False</td>\n",
       "      <td>0.305021</td>\n",
       "    </tr>\n",
       "  </tbody>\n",
       "</table>\n",
       "</div>"
      ],
      "text/plain": [
       "           category    air_date  \\\n",
       "0             MUSIC  1995-11-13   \n",
       "1  MUSICAL STYLINGS  2011-09-22   \n",
       "2     ALL THAT JAZZ  1997-10-31   \n",
       "3   BOOKS & AUTHORS  1992-10-29   \n",
       "4   STARTS WITH \"J\"  1996-07-17   \n",
       "\n",
       "                                                                                                     question  \\\n",
       "0                                              'Styles of music in the titles of the JVC & Playboy festivals'   \n",
       "1  'Sandra Booker, Nina Simone & Esperanza Spalding are all sultry chanteuses of this 4-letter musical genre'   \n",
       "2                   'This 1960s style pioneered by Ornette Coleman \"liberated\" improvisers from set melodies'   \n",
       "3                           'Type of music that's the title of Toni Morrison's 1992 novel set in 1926 Harlem'   \n",
       "4                                               'Swing was the most popular style of this music in the 1930s'   \n",
       "\n",
       "    value     answer             round show_number  has_link  distance  \n",
       "0   600.0       Jazz  Double Jeopardy!        2576     False  0.280103  \n",
       "1   400.0       jazz  Double Jeopardy!        6209     False  0.293485  \n",
       "2  1000.0  free jazz  Double Jeopardy!        3030     False  0.294298  \n",
       "3   400.0       Jazz  Double Jeopardy!        1874     False  0.299384  \n",
       "4   300.0       Jazz         Jeopardy!        2753     False  0.305021  "
      ]
     },
     "execution_count": 7,
     "metadata": {},
     "output_type": "execute_result"
    }
   ],
   "source": [
    "results_df = pd.DataFrame.from_records(brute_force_search(jeopardy.embeddings, jeopardy.data, \"Jazz\", k=5))\n",
    "results_df"
   ]
  },
  {
   "cell_type": "code",
   "execution_count": 8,
   "id": "78d02c82-f5b8-4ea2-bc03-6df63a3e2929",
   "metadata": {},
   "outputs": [
    {
     "data": {
      "text/plain": [
       "'Who is Hermes Trismegistus?'"
      ]
     },
     "execution_count": 8,
     "metadata": {},
     "output_type": "execute_result"
    }
   ],
   "source": [
    "ken(\n",
    "    category='GOOD THINGS COME IN THREES', \n",
    "    clue='This legendary alchemist first mentioned the Philosopher\\' Stone.')"
   ]
  },
  {
   "cell_type": "code",
   "execution_count": 9,
   "id": "aff00c67-586c-454c-b3de-3d1a03cc3942",
   "metadata": {},
   "outputs": [
    {
     "data": {
      "text/plain": [
       "'Who is Nicolas Flamel?'"
      ]
     },
     "execution_count": 9,
     "metadata": {},
     "output_type": "execute_result"
    }
   ],
   "source": [
    "ken(\n",
    "    category='NOTABLE FRENCH NAMES', \n",
    "    clue='This legendary alchemist first mentioned the Philosopher\\' Stone.')"
   ]
  },
  {
   "cell_type": "code",
   "execution_count": 10,
   "id": "e22f4f3d-da14-4531-b5ac-dadb1eacd6d7",
   "metadata": {},
   "outputs": [
    {
     "data": {
      "text/plain": [
       "'Incorrect. The correct response is Hermes Trismegistus.'"
      ]
     },
     "execution_count": 10,
     "metadata": {},
     "output_type": "execute_result"
    }
   ],
   "source": [
    "alex(\n",
    "    category='GOOD THINGS COME IN THREES',\n",
    "    clue='This legendary alchemist is said to have origininated the hermetic tradition.',\n",
    "    correct_response='Hermes Trismegistus',\n",
    "    contestant_response='Who is Nicolas Flamel?')"
   ]
  },
  {
   "cell_type": "code",
   "execution_count": 11,
   "id": "013e1c61-daaa-469e-9907-a90a458752e8",
   "metadata": {},
   "outputs": [],
   "source": [
    "query_vector = embed(\"Jazz\")"
   ]
  },
  {
   "cell_type": "code",
   "execution_count": 12,
   "id": "9c01880c-77e1-473c-a4c7-d980f7dba821",
   "metadata": {},
   "outputs": [
    {
     "name": "stdout",
     "output_type": "stream",
     "text": [
      "311 µs ± 3.33 µs per loop (mean ± std. dev. of 7 runs, 1,000 loops each)\n"
     ]
    }
   ],
   "source": [
    "%%timeit\n",
    "index_search(jeopardy_index, jeopardy.data, query_vector, k=5)"
   ]
  },
  {
   "cell_type": "code",
   "execution_count": 13,
   "id": "92d4e35c-cc42-4199-904c-11249aff266b",
   "metadata": {},
   "outputs": [
    {
     "name": "stdout",
     "output_type": "stream",
     "text": [
      "51.6 ms ± 966 µs per loop (mean ± std. dev. of 7 runs, 10 loops each)\n"
     ]
    }
   ],
   "source": [
    "%%timeit\n",
    "brute_force_search(jeopardy.embeddings, jeopardy.data, query_vector, k=5)"
   ]
  },
  {
   "cell_type": "code",
   "execution_count": 14,
   "id": "591d5b0a-5626-4a4d-9630-3a3323a4cc65",
   "metadata": {},
   "outputs": [
    {
     "data": {
      "text/plain": [
       "faiss.swigfaiss.IndexHNSWFlat"
      ]
     },
     "execution_count": 14,
     "metadata": {},
     "output_type": "execute_result"
    }
   ],
   "source": [
    "type(jeopardy_index)"
   ]
  },
  {
   "cell_type": "code",
   "execution_count": 21,
   "id": "1de28644-ac6c-4174-98d4-4505b5bff28a",
   "metadata": {},
   "outputs": [
    {
     "data": {
      "text/plain": [
       "37.974765"
      ]
     },
     "execution_count": 21,
     "metadata": {},
     "output_type": "execute_result"
    }
   ],
   "source": [
    "len(\" \".join(jeopardy.chunks))/1e6"
   ]
  },
  {
   "cell_type": "code",
   "execution_count": 23,
   "id": "a6c5bb86-2fd9-4cb3-88ff-99c7223290f2",
   "metadata": {},
   "outputs": [
    {
     "data": {
      "text/plain": [
       "0.9852832965415746"
      ]
     },
     "execution_count": 23,
     "metadata": {},
     "output_type": "execute_result"
    }
   ],
   "source": [
    "Total chunk size: 38 million character (roughly 10X the complete works of shakespeare)\n",
    "\n",
    "jeopardy_chunks = [ jeopardy_chunk_template.format(**q) for q in jeopardy_data ]\n",
    "jeopardy_database = create_embeddings_database(jeopardy_chunks)\n",
    "30 minutes and $1 to embed using text-embedding-ada-002\n",
    "\n",
    "%%timeit\n",
    "generate_hnsw_index(jeopardy.embeddings, \"temp.index\")\n",
    "About 1 minute to create the FAISS HNSW Index.\n",
    "It's about 1.3 GB on disk, basically the same as just storing the embedding vectors.\n",
    "Same size in memory.\n",
    "\n",
    "about 0.6 seconds to load the index off disk\n",
    "%%timeit\n",
    "load_jeopardy_index()\n",
    "\n",
    "HNSW vs. brute force:\n",
    "311 microseconds vs 51.6 milliseconds\n",
    "that's about 166X (two orders of magnitude faster)\n",
    "\n",
    "1339/ 1359"
   ]
  },
  {
   "cell_type": "code",
   "execution_count": 18,
   "id": "9b2044a6-6b6f-40db-9761-22470b1cde24",
   "metadata": {},
   "outputs": [],
   "source": []
  },
  {
   "cell_type": "code",
   "execution_count": 19,
   "id": "2d9a008f-47b3-421a-b9ec-3174d0d55517",
   "metadata": {},
   "outputs": [
    {
     "name": "stdout",
     "output_type": "stream",
     "text": [
      "1min 21s ± 887 ms per loop (mean ± std. dev. of 7 runs, 1 loop each)\n"
     ]
    }
   ],
   "source": [
    "# %%timeit\n",
    "# generate_hnsw_index(jeopardy.embeddings, \"temp.index\")"
   ]
  },
  {
   "cell_type": "code",
   "execution_count": null,
   "id": "43279d66-2559-46b8-96f6-a81498a4fd45",
   "metadata": {},
   "outputs": [],
   "source": []
  }
 ],
 "metadata": {
  "kernelspec": {
   "display_name": "Python 3 (ipykernel)",
   "language": "python",
   "name": "python3"
  },
  "language_info": {
   "codemirror_mode": {
    "name": "ipython",
    "version": 3
   },
   "file_extension": ".py",
   "mimetype": "text/x-python",
   "name": "python",
   "nbconvert_exporter": "python",
   "pygments_lexer": "ipython3",
   "version": "3.12.3"
  }
 },
 "nbformat": 4,
 "nbformat_minor": 5
}
