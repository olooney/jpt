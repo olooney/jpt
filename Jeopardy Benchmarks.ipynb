{
 "cells": [
  {
   "cell_type": "code",
   "execution_count": 1,
   "id": "dbca9229-8c88-4f58-8bb9-a9778498a952",
   "metadata": {},
   "outputs": [],
   "source": [
    "import random\n",
    "import math\n",
    "import logging\n",
    "import sys\n",
    "import os\n",
    "\n",
    "import numpy as np\n",
    "import pandas as pd\n",
    "import matplotlib.pyplot as plt\n",
    "\n",
    "import jpt\n",
    "from jpt import (\n",
    "    alex,\n",
    "    ken,\n",
    "    full_name,\n",
    "    jeopardy_dialogue,\n",
    "    jeopardy_benchmark_suite,\n",
    "    evaluate_jeopardy_benchmarks\n",
    ")\n",
    "from util import now, TemporarySeed"
   ]
  },
  {
   "cell_type": "code",
   "execution_count": 2,
   "id": "575fc0ea-a5a9-4c02-ac6d-8b5ec22a66c8",
   "metadata": {},
   "outputs": [],
   "source": [
    "pd.set_option('display.max_colwidth', None)\n",
    "\n",
    "logging.basicConfig(stream=sys.stderr, level=logging.ERROR)\n",
    "logger = logging.getLogger(__name__)"
   ]
  },
  {
   "cell_type": "code",
   "execution_count": 3,
   "id": "28b35829-3cee-4d15-a690-9938f82be9f2",
   "metadata": {},
   "outputs": [],
   "source": [
    "%load_ext autoreload\n",
    "%autoreload 2"
   ]
  },
  {
   "cell_type": "code",
   "execution_count": 4,
   "id": "21f4d1cd-43dc-47c1-867c-8ff221a4e88e",
   "metadata": {},
   "outputs": [
    {
     "name": "stdout",
     "output_type": "stream",
     "text": [
      "206407\n"
     ]
    }
   ],
   "source": [
    "jeopardy_data = jpt.load_jeopardy_dataset(remove_unfair=True)\n",
    "print(len(jeopardy_data))"
   ]
  },
  {
   "cell_type": "code",
   "execution_count": 5,
   "id": "bb6355c5-b8a2-413a-bb6e-9f26b413f4a1",
   "metadata": {},
   "outputs": [
    {
     "data": {
      "text/plain": [
       "{'category': 'FOOD FOR THOUGHT',\n",
       " 'air_date': '2008-11-21',\n",
       " 'question': \"'Buzzbee is the advertising mascot for this variety of Cheerios'\",\n",
       " 'value': 1000.0,\n",
       " 'answer': 'Honey Nut Cheerios',\n",
       " 'round': 'Jeopardy!',\n",
       " 'show_number': '5570'}"
      ]
     },
     "execution_count": 5,
     "metadata": {},
     "output_type": "execute_result"
    }
   ],
   "source": [
    "random_question = random.sample(jeopardy_data, 1)[0]\n",
    "random_question"
   ]
  },
  {
   "cell_type": "code",
   "execution_count": 6,
   "id": "7a87e395-c909-481a-9b9c-75b5cc6c3494",
   "metadata": {},
   "outputs": [
    {
     "name": "stdout",
     "output_type": "stream",
     "text": [
      "Category: FOOD FOR THOUGHT\n",
      "Clue: Buzzbee is the advertising mascot for this variety of Cheerios\n",
      "Answer: Honey Nut Cheerios\n",
      "Contestant: What is Honey Nut Cheerios?\n",
      "Alex: Correct! Honey Nut Cheerios is indeed the variety associated with Buzzbee.\n"
     ]
    }
   ],
   "source": [
    "jeopardy_dialogue(random_question, contestant=ken);"
   ]
  },
  {
   "cell_type": "code",
   "execution_count": 13,
   "id": "fb74d471-8a5e-4771-8c20-7c83d05e85b4",
   "metadata": {},
   "outputs": [
    {
     "name": "stdout",
     "output_type": "stream",
     "text": [
      "\n",
      "amy........................................................................................................................................................................................................................................................................................................................................................................................................................................................................................................................................................................................................................................................................................................................................................................................................................................................................................................................................................................................................................................\n",
      "ken........................................................................................................................................................................................................................................................................................................................................................................................................................................................................................................................................................................................................................................................................................................................................................................................................................................................................................................................................................................................................................................\n",
      "larissa........................................................................................................................................................................................................................................................................................................................................................................................................................................................................................................................................................................................................................................................................................................................................................................................................................................................................................................................................................................................................................................\n",
      "david........................................................................................................................................................................................................................................................................................................................................................................................................................................................................................................................................................................................................................................................................................................................................................................................................................................................................................................................................................................................................................................\n",
      "brad........................................................................................................................................................................................................................................................................................................................................................................................................................................................................................................................................................................................................................................................................................................................................................................................................................................................................................................................................................................................................................................\n",
      "james........................................................................................................................................................................................................................................................................................................................................................................................................................................................................................................................................................................................................................................................................................................................................................................................................................................................................................................................................................................................................................................\n",
      "mattea........................................................................................................................................................................................................................................................................................................................................................................................................................................................................................................................................................................................................................................................................................................................................................................................................................................................................................................................................................................................................................................"
     ]
    }
   ],
   "source": [
    "new_benchmark_results_df = jeopardy_benchmark_suite(jeopardy_data, sample_size=1_000, seed=137)"
   ]
  },
  {
   "cell_type": "code",
   "execution_count": 14,
   "id": "974b13b7-2817-42aa-8d15-e8167eb71044",
   "metadata": {},
   "outputs": [
    {
     "data": {
      "text/plain": [
       "(14000, 8)"
      ]
     },
     "execution_count": 14,
     "metadata": {},
     "output_type": "execute_result"
    }
   ],
   "source": [
    "old_benchmark_results_df = pd.read_csv(os.path.join(jpt.JEOPARDY_DATA_DIR, 'all_benchmark_results_20240510.csv'))\n",
    "all_benchmark_results_df = pd.concat([old_benchmark_results_df, new_benchmark_results_df])\n",
    "all_benchmark_results_df.shape"
   ]
  },
  {
   "cell_type": "code",
   "execution_count": 15,
   "id": "f6ff47f2-d990-4684-b167-1d6348e0b875",
   "metadata": {},
   "outputs": [
    {
     "data": {
      "text/html": [
       "<div>\n",
       "<style scoped>\n",
       "    .dataframe tbody tr th:only-of-type {\n",
       "        vertical-align: middle;\n",
       "    }\n",
       "\n",
       "    .dataframe tbody tr th {\n",
       "        vertical-align: top;\n",
       "    }\n",
       "\n",
       "    .dataframe thead th {\n",
       "        text-align: right;\n",
       "    }\n",
       "</style>\n",
       "<table border=\"1\" class=\"dataframe\">\n",
       "  <thead>\n",
       "    <tr style=\"text-align: right;\">\n",
       "      <th></th>\n",
       "      <th>label</th>\n",
       "      <th>successes</th>\n",
       "      <th>failures</th>\n",
       "      <th>sample_size</th>\n",
       "      <th>success_rate</th>\n",
       "      <th>standard_error</th>\n",
       "      <th>name</th>\n",
       "    </tr>\n",
       "  </thead>\n",
       "  <tbody>\n",
       "    <tr>\n",
       "      <th>1</th>\n",
       "      <td>ken</td>\n",
       "      <td>1924</td>\n",
       "      <td>76</td>\n",
       "      <td>2000</td>\n",
       "      <td>0.9620</td>\n",
       "      <td>0.004288</td>\n",
       "      <td>Ken Jennings\\n(gpt-4-turbo)</td>\n",
       "    </tr>\n",
       "    <tr>\n",
       "      <th>0</th>\n",
       "      <td>amy</td>\n",
       "      <td>1856</td>\n",
       "      <td>144</td>\n",
       "      <td>2000</td>\n",
       "      <td>0.9280</td>\n",
       "      <td>0.005788</td>\n",
       "      <td>Amy Schneider\\n(gpt-3.5-fine-tuned)</td>\n",
       "    </tr>\n",
       "    <tr>\n",
       "      <th>5</th>\n",
       "      <td>james</td>\n",
       "      <td>1791</td>\n",
       "      <td>209</td>\n",
       "      <td>2000</td>\n",
       "      <td>0.8955</td>\n",
       "      <td>0.006846</td>\n",
       "      <td>James Holzhauer\\n(gpt-3.5-turbo)</td>\n",
       "    </tr>\n",
       "    <tr>\n",
       "      <th>4</th>\n",
       "      <td>brad</td>\n",
       "      <td>1790</td>\n",
       "      <td>210</td>\n",
       "      <td>2000</td>\n",
       "      <td>0.8950</td>\n",
       "      <td>0.006860</td>\n",
       "      <td>Brad Rutter\\n(llama3:70b)</td>\n",
       "    </tr>\n",
       "    <tr>\n",
       "      <th>6</th>\n",
       "      <td>mattea</td>\n",
       "      <td>1748</td>\n",
       "      <td>252</td>\n",
       "      <td>2000</td>\n",
       "      <td>0.8740</td>\n",
       "      <td>0.007425</td>\n",
       "      <td>Mattea Roach\\n(llama3:8b + RAG)</td>\n",
       "    </tr>\n",
       "    <tr>\n",
       "      <th>2</th>\n",
       "      <td>larissa</td>\n",
       "      <td>1257</td>\n",
       "      <td>743</td>\n",
       "      <td>2000</td>\n",
       "      <td>0.6285</td>\n",
       "      <td>0.010805</td>\n",
       "      <td>Larissa Kelly\\n(llama3:8b)</td>\n",
       "    </tr>\n",
       "    <tr>\n",
       "      <th>3</th>\n",
       "      <td>david</td>\n",
       "      <td>1196</td>\n",
       "      <td>804</td>\n",
       "      <td>2000</td>\n",
       "      <td>0.5980</td>\n",
       "      <td>0.010964</td>\n",
       "      <td>David Madden\\n(llama2:7b)</td>\n",
       "    </tr>\n",
       "  </tbody>\n",
       "</table>\n",
       "</div>"
      ],
      "text/plain": [
       "     label  successes  failures  sample_size  success_rate  standard_error  \\\n",
       "1      ken       1924        76         2000        0.9620        0.004288   \n",
       "0      amy       1856       144         2000        0.9280        0.005788   \n",
       "5    james       1791       209         2000        0.8955        0.006846   \n",
       "4     brad       1790       210         2000        0.8950        0.006860   \n",
       "6   mattea       1748       252         2000        0.8740        0.007425   \n",
       "2  larissa       1257       743         2000        0.6285        0.010805   \n",
       "3    david       1196       804         2000        0.5980        0.010964   \n",
       "\n",
       "                                  name  \n",
       "1          Ken Jennings\\n(gpt-4-turbo)  \n",
       "0  Amy Schneider\\n(gpt-3.5-fine-tuned)  \n",
       "5     James Holzhauer\\n(gpt-3.5-turbo)  \n",
       "4            Brad Rutter\\n(llama3:70b)  \n",
       "6      Mattea Roach\\n(llama3:8b + RAG)  \n",
       "2           Larissa Kelly\\n(llama3:8b)  \n",
       "3            David Madden\\n(llama2:7b)  "
      ]
     },
     "execution_count": 15,
     "metadata": {},
     "output_type": "execute_result"
    }
   ],
   "source": [
    "jeopardy_benchmark_evaluations_df = evaluate_jeopardy_benchmarks(all_benchmark_results_df)\n",
    "jeopardy_benchmark_evaluations_df"
   ]
  },
  {
   "cell_type": "code",
   "execution_count": 16,
   "id": "9eeb09f4-bc15-42c2-9918-2f7706d26030",
   "metadata": {},
   "outputs": [
    {
     "data": {
      "text/html": [
       "<div>\n",
       "<style scoped>\n",
       "    .dataframe tbody tr th:only-of-type {\n",
       "        vertical-align: middle;\n",
       "    }\n",
       "\n",
       "    .dataframe tbody tr th {\n",
       "        vertical-align: top;\n",
       "    }\n",
       "\n",
       "    .dataframe thead th {\n",
       "        text-align: right;\n",
       "    }\n",
       "</style>\n",
       "<table border=\"1\" class=\"dataframe\">\n",
       "  <thead>\n",
       "    <tr style=\"text-align: right;\">\n",
       "      <th></th>\n",
       "      <th>label</th>\n",
       "      <th>category</th>\n",
       "      <th>question</th>\n",
       "      <th>value</th>\n",
       "      <th>answer</th>\n",
       "      <th>contestant_answer</th>\n",
       "      <th>judgement</th>\n",
       "      <th>correct</th>\n",
       "    </tr>\n",
       "  </thead>\n",
       "  <tbody>\n",
       "    <tr>\n",
       "      <th>5817</th>\n",
       "      <td>james</td>\n",
       "      <td>RELIGION</td>\n",
       "      <td>'In 1915, the Religious Society of Friends tried to make this company change its name'</td>\n",
       "      <td>100.0</td>\n",
       "      <td>Quaker Oats</td>\n",
       "      <td>What is the company name that the Religious Society of Friends tried to change in 1915 to American Friends Service Committee?</td>\n",
       "      <td>Incorrect. The correct response was \"What is Quaker Oats?\"</td>\n",
       "      <td>False</td>\n",
       "    </tr>\n",
       "    <tr>\n",
       "      <th>923</th>\n",
       "      <td>david</td>\n",
       "      <td>LITERARY CROSSWORD CLUES \"S\"</td>\n",
       "      <td>'The \"saint\"ly Mr. Templar&lt;br /&gt;(5)'</td>\n",
       "      <td>1200.0</td>\n",
       "      <td>Simon</td>\n",
       "      <td>Who is Sir Arthur Conan Doyle?</td>\n",
       "      <td>Incorrect. The correct response was \"Who is Simon?\"</td>\n",
       "      <td>False</td>\n",
       "    </tr>\n",
       "    <tr>\n",
       "      <th>4201</th>\n",
       "      <td>david</td>\n",
       "      <td>SONNETS</td>\n",
       "      <td>'\"When I consider how my light is spent\" begins this sonnet about his loss of sight'</td>\n",
       "      <td>7800.0</td>\n",
       "      <td>Milton</td>\n",
       "      <td>What is Shakespeare's Sonnet 29?</td>\n",
       "      <td>Incorrect. The correct response is \"Who is Milton?\"</td>\n",
       "      <td>False</td>\n",
       "    </tr>\n",
       "    <tr>\n",
       "      <th>6564</th>\n",
       "      <td>mattea</td>\n",
       "      <td>IN THE PINK</td>\n",
       "      <td>'Rapper Cam'ron had a pink one of these alliterative super-SUVs, but sold it as it got too much attention'</td>\n",
       "      <td>800.0</td>\n",
       "      <td>Range Rover</td>\n",
       "      <td>What is an Escalade?</td>\n",
       "      <td>Incorrect. The correct response was, \"What is a Range Rover?\"</td>\n",
       "      <td>False</td>\n",
       "    </tr>\n",
       "    <tr>\n",
       "      <th>6265</th>\n",
       "      <td>mattea</td>\n",
       "      <td>BRITISH NOVELISTS</td>\n",
       "      <td>'James Hilton's father, a school headmaster, was an inspiration for the title character in \"Goodbye, Mr.\" him'</td>\n",
       "      <td>600.0</td>\n",
       "      <td>Chips</td>\n",
       "      <td>What is who?</td>\n",
       "      <td>Incorrect. The correct response was \"What is Chips?\"</td>\n",
       "      <td>False</td>\n",
       "    </tr>\n",
       "    <tr>\n",
       "      <th>4541</th>\n",
       "      <td>brad</td>\n",
       "      <td>THIS SHOULD SOUND FAMILIAR</td>\n",
       "      <td>'Don't look now, but from the Latin for \"balcony\", it's a small platform for a public speaker'</td>\n",
       "      <td>1000.0</td>\n",
       "      <td>a podium</td>\n",
       "      <td>What is a pulpit?</td>\n",
       "      <td>Incorrect. The correct response was \"What is a podium?\"</td>\n",
       "      <td>False</td>\n",
       "    </tr>\n",
       "    <tr>\n",
       "      <th>6940</th>\n",
       "      <td>mattea</td>\n",
       "      <td>THE ARCTIC ENVIRONMENT</td>\n",
       "      <td>'(&lt;a href=\"http://www.j-archive.com/media/2012-01-23_J_23.wmv\"&gt;Sarah of the Clue Crew presents the clue.&lt;/a&gt;)  After Antarctica &amp; Greenland, many consider Nordaustland in Svalbard to be covered with the third-largest in volume of this form of slow-moving glacier'</td>\n",
       "      <td>1000.0</td>\n",
       "      <td>an icecap</td>\n",
       "      <td>What is ice?</td>\n",
       "      <td>Incorrect. The correct response was \"What is an icecap?\"</td>\n",
       "      <td>False</td>\n",
       "    </tr>\n",
       "    <tr>\n",
       "      <th>357</th>\n",
       "      <td>larissa</td>\n",
       "      <td>\"TRI\" HARDER</td>\n",
       "      <td>'Bet in which the bettor must correctly choose the first 3 finishers in a horse race in exact order'</td>\n",
       "      <td>500.0</td>\n",
       "      <td>Trifecta</td>\n",
       "      <td>What is the Daily Double?</td>\n",
       "      <td>Incorrect. The correct response was \"What is a trifecta?\"</td>\n",
       "      <td>False</td>\n",
       "    </tr>\n",
       "    <tr>\n",
       "      <th>3406</th>\n",
       "      <td>larissa</td>\n",
       "      <td>CROSSWORD CLUES \"I\"</td>\n",
       "      <td>'Bliss, proverbially&lt;br /&gt;(9)'</td>\n",
       "      <td>1600.0</td>\n",
       "      <td>ignorance</td>\n",
       "      <td>Is the answer \"IS HAPPINESS\"?</td>\n",
       "      <td>Incorrect. The correct response was \"What is ignorance?\"</td>\n",
       "      <td>False</td>\n",
       "    </tr>\n",
       "    <tr>\n",
       "      <th>6064</th>\n",
       "      <td>mattea</td>\n",
       "      <td>RHYME TIME</td>\n",
       "      <td>'A fresh &amp; flippant gal from Scotland'</td>\n",
       "      <td>1600.0</td>\n",
       "      <td>a sassy lassie</td>\n",
       "      <td>What is a lassie?</td>\n",
       "      <td>Incorrect. The correct response was \"What is a sassy lassie?\"</td>\n",
       "      <td>False</td>\n",
       "    </tr>\n",
       "  </tbody>\n",
       "</table>\n",
       "</div>"
      ],
      "text/plain": [
       "        label                      category  \\\n",
       "5817    james                      RELIGION   \n",
       "923     david  LITERARY CROSSWORD CLUES \"S\"   \n",
       "4201    david                       SONNETS   \n",
       "6564   mattea                   IN THE PINK   \n",
       "6265   mattea             BRITISH NOVELISTS   \n",
       "4541     brad    THIS SHOULD SOUND FAMILIAR   \n",
       "6940   mattea        THE ARCTIC ENVIRONMENT   \n",
       "357   larissa                  \"TRI\" HARDER   \n",
       "3406  larissa           CROSSWORD CLUES \"I\"   \n",
       "6064   mattea                    RHYME TIME   \n",
       "\n",
       "                                                                                                                                                                                                                                                                     question  \\\n",
       "5817                                                                                                                                                                                   'In 1915, the Religious Society of Friends tried to make this company change its name'   \n",
       "923                                                                                                                                                                                                                                      'The \"saint\"ly Mr. Templar<br />(5)'   \n",
       "4201                                                                                                                                                                                     '\"When I consider how my light is spent\" begins this sonnet about his loss of sight'   \n",
       "6564                                                                                                                                                               'Rapper Cam'ron had a pink one of these alliterative super-SUVs, but sold it as it got too much attention'   \n",
       "6265                                                                                                                                                           'James Hilton's father, a school headmaster, was an inspiration for the title character in \"Goodbye, Mr.\" him'   \n",
       "4541                                                                                                                                                                           'Don't look now, but from the Latin for \"balcony\", it's a small platform for a public speaker'   \n",
       "6940  '(<a href=\"http://www.j-archive.com/media/2012-01-23_J_23.wmv\">Sarah of the Clue Crew presents the clue.</a>)  After Antarctica & Greenland, many consider Nordaustland in Svalbard to be covered with the third-largest in volume of this form of slow-moving glacier'   \n",
       "357                                                                                                                                                                      'Bet in which the bettor must correctly choose the first 3 finishers in a horse race in exact order'   \n",
       "3406                                                                                                                                                                                                                                           'Bliss, proverbially<br />(9)'   \n",
       "6064                                                                                                                                                                                                                                   'A fresh & flippant gal from Scotland'   \n",
       "\n",
       "       value          answer  \\\n",
       "5817   100.0     Quaker Oats   \n",
       "923   1200.0           Simon   \n",
       "4201  7800.0          Milton   \n",
       "6564   800.0     Range Rover   \n",
       "6265   600.0           Chips   \n",
       "4541  1000.0        a podium   \n",
       "6940  1000.0       an icecap   \n",
       "357    500.0        Trifecta   \n",
       "3406  1600.0       ignorance   \n",
       "6064  1600.0  a sassy lassie   \n",
       "\n",
       "                                                                                                                  contestant_answer  \\\n",
       "5817  What is the company name that the Religious Society of Friends tried to change in 1915 to American Friends Service Committee?   \n",
       "923                                                                                                  Who is Sir Arthur Conan Doyle?   \n",
       "4201                                                                                               What is Shakespeare's Sonnet 29?   \n",
       "6564                                                                                                           What is an Escalade?   \n",
       "6265                                                                                                                   What is who?   \n",
       "4541                                                                                                              What is a pulpit?   \n",
       "6940                                                                                                                   What is ice?   \n",
       "357                                                                                                       What is the Daily Double?   \n",
       "3406                                                                                                  Is the answer \"IS HAPPINESS\"?   \n",
       "6064                                                                                                              What is a lassie?   \n",
       "\n",
       "                                                          judgement  correct  \n",
       "5817     Incorrect. The correct response was \"What is Quaker Oats?\"    False  \n",
       "923             Incorrect. The correct response was \"Who is Simon?\"    False  \n",
       "4201            Incorrect. The correct response is \"Who is Milton?\"    False  \n",
       "6564  Incorrect. The correct response was, \"What is a Range Rover?\"    False  \n",
       "6265           Incorrect. The correct response was \"What is Chips?\"    False  \n",
       "4541        Incorrect. The correct response was \"What is a podium?\"    False  \n",
       "6940       Incorrect. The correct response was \"What is an icecap?\"    False  \n",
       "357       Incorrect. The correct response was \"What is a trifecta?\"    False  \n",
       "3406       Incorrect. The correct response was \"What is ignorance?\"    False  \n",
       "6064  Incorrect. The correct response was \"What is a sassy lassie?\"    False  "
      ]
     },
     "execution_count": 16,
     "metadata": {},
     "output_type": "execute_result"
    }
   ],
   "source": [
    "errors_df = all_benchmark_results_df[ ~all_benchmark_results_df['correct'] ]\n",
    "errors_df.sample(len(errors_df)).head(10)"
   ]
  },
  {
   "cell_type": "code",
   "execution_count": 17,
   "id": "218a6958-35ee-423e-b2cf-bdf733df61b1",
   "metadata": {},
   "outputs": [
    {
     "data": {
      "image/png": "[encoded data removed]",
      "text/plain": [
       "<Figure size 1200x600 with 1 Axes>"
      ]
     },
     "metadata": {},
     "output_type": "display_data"
    }
   ],
   "source": [
    "# Plotting the bar chart with error bars\n",
    "jpt.plot_evaluations(jeopardy_benchmark_evaluations_df)"
   ]
  },
  {
   "cell_type": "code",
   "execution_count": 18,
   "id": "6291f30b-19d1-420e-ba85-680b75ed11be",
   "metadata": {},
   "outputs": [
    {
     "name": "stdout",
     "output_type": "stream",
     "text": [
      "wrote C:\\Users\\oloon\\Dropbox\\data\\jeopardy\\jeopardy_benchmark_evaluations_2024-05-11.csv\n",
      "wrote C:\\Users\\oloon\\Dropbox\\data\\jeopardy\\all_benchmark_results_2024-05-11.csv\n"
     ]
    }
   ],
   "source": [
    "timestamp = now(False)\n",
    "eval_filename = os.path.join(jpt.JEOPARDY_DATA_DIR, f'jeopardy_benchmark_evaluations_{timestamp}.csv')\n",
    "print('wrote', eval_filename)\n",
    "jeopardy_benchmark_evaluations_df.to_csv(eval_filename, index=False)\n",
    "\n",
    "benchmark_filename = os.path.join(jpt.JEOPARDY_DATA_DIR, f'all_benchmark_results_{timestamp}.csv')\n",
    "all_benchmark_results_df.to_csv(benchmark_filename, index=False)\n",
    "print('wrote', benchmark_filename)"
   ]
  },
  {
   "cell_type": "code",
   "execution_count": 61,
   "id": "e24b27e3-0acc-420d-a1ca-d13a10f8a76c",
   "metadata": {},
   "outputs": [
    {
     "name": "stdout",
     "output_type": "stream",
     "text": [
      "| Contestant      | Model              | Successes   |   Failures | Sample Size   | Success Rate   | 95% CI   |\n",
      "|:----------------|:-------------------|:------------|-----------:|:--------------|:---------------|:---------|\n",
      "| Ken Jennings    | gpt-4-turbo        | 1,924       |         76 | 2,000         | 96.20%         | ±0.84%   |\n",
      "| Amy Schneider   | gpt-3.5-fine-tuned | 1,856       |        144 | 2,000         | 92.80%         | ±1.13%   |\n",
      "| James Holzhauer | gpt-3.5-turbo      | 1,791       |        209 | 2,000         | 89.55%         | ±1.34%   |\n",
      "| Brad Rutter     | llama3:70b         | 1,790       |        210 | 2,000         | 89.50%         | ±1.34%   |\n",
      "| Mattea Roach    | llama3:8b + RAG    | 1,748       |        252 | 2,000         | 87.40%         | ±1.46%   |\n",
      "| Larissa Kelly   | llama3:8b          | 1,257       |        743 | 2,000         | 62.85%         | ±2.12%   |\n",
      "| David Madden    | llama2:7b          | 1,196       |        804 | 2,000         | 59.80%         | ±2.15%   |\n"
     ]
    }
   ],
   "source": [
    "df = jeopardy_benchmark_evaluations_df.copy()\n",
    "df.reset_index(drop=True, inplace=True)\n",
    "\n",
    "# split name/model into separate columns\n",
    "name_split = df['name'].str.split('\\n', expand=True)\n",
    "df.insert(0, 'model', name_split[1].str[1:-1])\n",
    "df.insert(0, 'Contestant', name_split[0])\n",
    "df.drop(columns=['label', 'name'], inplace=True)\n",
    "\n",
    "# formatting\n",
    "df['successes'] = df['successes'].apply(lambda x: f'{x:,}')\n",
    "df['failures'] = df['failures'].apply(lambda x: f'{x:,}')\n",
    "df['sample_size'] = df['sample_size'].apply(lambda x: f'{x:,}')\n",
    "df['success_rate'] = df['success_rate'].apply(lambda p: f'{p*100:0.2f}%')\n",
    "df['standard_error'] = df['standard_error'].apply(lambda p: f'±{p*196:0.2f}%')\n",
    "\n",
    "df.columns = ['Contestant', 'Model', 'Successes', 'Failures', 'Sample Size', 'Success Rate', '95% CI']\n",
    "print(df.to_markdown(index=False))"
   ]
  },
  {
   "cell_type": "code",
   "execution_count": 62,
   "id": "68799ecd-92cf-4d78-bebd-02b3ad470321",
   "metadata": {},
   "outputs": [
    {
     "data": {
      "text/plain": [
       "24.550000000000004"
      ]
     },
     "execution_count": 62,
     "metadata": {},
     "output_type": "execute_result"
    }
   ],
   "source": [
    "87.40 - 62.85"
   ]
  },
  {
   "cell_type": "code",
   "execution_count": null,
   "id": "79f430cf-3e02-4b8b-9719-63e7ec9c142c",
   "metadata": {},
   "outputs": [],
   "source": []
  }
 ],
 "metadata": {
  "kernelspec": {
   "display_name": "Python 3 (ipykernel)",
   "language": "python",
   "name": "python3"
  },
  "language_info": {
   "codemirror_mode": {
    "name": "ipython",
    "version": 3
   },
   "file_extension": ".py",
   "mimetype": "text/x-python",
   "name": "python",
   "nbconvert_exporter": "python",
   "pygments_lexer": "ipython3",
   "version": "3.12.3"
  }
 },
 "nbformat": 4,
 "nbformat_minor": 5
}
