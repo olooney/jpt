{
 "cells": [
  {
   "cell_type": "code",
   "execution_count": 13,
   "id": "dbca9229-8c88-4f58-8bb9-a9778498a952",
   "metadata": {},
   "outputs": [],
   "source": [
    "import random\n",
    "import math\n",
    "import logging\n",
    "import sys\n",
    "import os\n",
    "\n",
    "import numpy as np\n",
    "import pandas as pd\n",
    "import matplotlib.pyplot as plt\n",
    "\n",
    "import jpt\n",
    "from jpt import (\n",
    "    alex,\n",
    "    ken,\n",
    "    full_name,\n",
    "    jeopardy_dialogue,\n",
    "    jeopardy_benchmark_suite,\n",
    "    evaluate_jeopardy_benchmarks,\n",
    "    plot_evaluations\n",
    ")\n",
    "from util import now, TemporarySeed"
   ]
  },
  {
   "cell_type": "code",
   "execution_count": 44,
   "id": "575fc0ea-a5a9-4c02-ac6d-8b5ec22a66c8",
   "metadata": {},
   "outputs": [],
   "source": [
    "pd.set_option('display.max_colwidth', None)\n",
    "\n",
    "logging.basicConfig(stream=sys.stderr, level=logging.ERROR)\n",
    "logger = logging.getLogger(__name__)"
   ]
  },
  {
   "cell_type": "code",
   "execution_count": 11,
   "id": "28b35829-3cee-4d15-a690-9938f82be9f2",
   "metadata": {},
   "outputs": [],
   "source": [
    "%load_ext autoreload\n",
    "%autoreload 2"
   ]
  },
  {
   "cell_type": "code",
   "execution_count": 4,
   "id": "21f4d1cd-43dc-47c1-867c-8ff221a4e88e",
   "metadata": {},
   "outputs": [
    {
     "name": "stdout",
     "output_type": "stream",
     "text": [
      "206407\n"
     ]
    }
   ],
   "source": [
    "jeopardy_data = jpt.load_jeopardy_dataset(remove_unfair=True)\n",
    "print(len(jeopardy_data))"
   ]
  },
  {
   "cell_type": "code",
   "execution_count": 5,
   "id": "bb6355c5-b8a2-413a-bb6e-9f26b413f4a1",
   "metadata": {},
   "outputs": [
    {
     "data": {
      "text/plain": [
       "{'category': 'FOOD FOR THOUGHT',\n",
       " 'air_date': '2008-11-21',\n",
       " 'question': \"'Buzzbee is the advertising mascot for this variety of Cheerios'\",\n",
       " 'value': 1000.0,\n",
       " 'answer': 'Honey Nut Cheerios',\n",
       " 'round': 'Jeopardy!',\n",
       " 'show_number': '5570'}"
      ]
     },
     "execution_count": 5,
     "metadata": {},
     "output_type": "execute_result"
    }
   ],
   "source": [
    "random_question = random.sample(jeopardy_data, 1)[0]\n",
    "random_question"
   ]
  },
  {
   "cell_type": "code",
   "execution_count": 6,
   "id": "7a87e395-c909-481a-9b9c-75b5cc6c3494",
   "metadata": {},
   "outputs": [
    {
     "name": "stdout",
     "output_type": "stream",
     "text": [
      "Category: FOOD FOR THOUGHT\n",
      "Clue: Buzzbee is the advertising mascot for this variety of Cheerios\n",
      "Answer: Honey Nut Cheerios\n",
      "Contestant: What is Honey Nut Cheerios?\n",
      "Alex: Correct! Honey Nut Cheerios is indeed the variety associated with Buzzbee.\n"
     ]
    }
   ],
   "source": [
    "jeopardy_dialogue(random_question, contestant=ken);"
   ]
  },
  {
   "cell_type": "code",
   "execution_count": 13,
   "id": "fb74d471-8a5e-4771-8c20-7c83d05e85b4",
   "metadata": {},
   "outputs": [
    {
     "name": "stdout",
     "output_type": "stream",
     "text": [
      "\n",
      "amy........................................................................................................................................................................................................................................................................................................................................................................................................................................................................................................................................................................................................................................................................................................................................................................................................................................................................................................................................................................................................................................\n",
      "ken........................................................................................................................................................................................................................................................................................................................................................................................................................................................................................................................................................................................................................................................................................................................................................................................................................................................................................................................................................................................................................................\n",
      "larissa........................................................................................................................................................................................................................................................................................................................................................................................................................................................................................................................................................................................................................................................................................................................................................................................................................................................................................................................................................................................................................................\n",
      "david........................................................................................................................................................................................................................................................................................................................................................................................................................................................................................................................................................................................................................................................................................................................................................................................................................................................................................................................................................................................................................................\n",
      "brad........................................................................................................................................................................................................................................................................................................................................................................................................................................................................................................................................................................................................................................................................................................................................................................................................................................................................................................................................................................................................................................\n",
      "james........................................................................................................................................................................................................................................................................................................................................................................................................................................................................................................................................................................................................................................................................................................................................................................................................................................................................................................................................................................................................................................\n",
      "mattea........................................................................................................................................................................................................................................................................................................................................................................................................................................................................................................................................................................................................................................................................................................................................................................................................................................................................................................................................................................................................................................"
     ]
    }
   ],
   "source": [
    "new_benchmark_results_df = jeopardy_benchmark_suite(jeopardy_data, sample_size=1_000, seed=137)"
   ]
  },
  {
   "cell_type": "code",
   "execution_count": 14,
   "id": "974b13b7-2817-42aa-8d15-e8167eb71044",
   "metadata": {},
   "outputs": [
    {
     "data": {
      "text/plain": [
       "(14000, 8)"
      ]
     },
     "execution_count": 14,
     "metadata": {},
     "output_type": "execute_result"
    }
   ],
   "source": [
    "old_benchmark_results_df = pd.read_csv(os.path.join(jpt.JEOPARDY_DATA_DIR, 'all_benchmark_results_20240510.csv'))\n",
    "all_benchmark_results_df = pd.concat([old_benchmark_results_df, new_benchmark_results_df])\n",
    "all_benchmark_results_df.shape"
   ]
  },
  {
   "cell_type": "code",
   "execution_count": 15,
   "id": "f6ff47f2-d990-4684-b167-1d6348e0b875",
   "metadata": {},
   "outputs": [
    {
     "data": {
      "text/html": [
       "<div>\n",
       "<style scoped>\n",
       "    .dataframe tbody tr th:only-of-type {\n",
       "        vertical-align: middle;\n",
       "    }\n",
       "\n",
       "    .dataframe tbody tr th {\n",
       "        vertical-align: top;\n",
       "    }\n",
       "\n",
       "    .dataframe thead th {\n",
       "        text-align: right;\n",
       "    }\n",
       "</style>\n",
       "<table border=\"1\" class=\"dataframe\">\n",
       "  <thead>\n",
       "    <tr style=\"text-align: right;\">\n",
       "      <th></th>\n",
       "      <th>label</th>\n",
       "      <th>successes</th>\n",
       "      <th>failures</th>\n",
       "      <th>sample_size</th>\n",
       "      <th>success_rate</th>\n",
       "      <th>standard_error</th>\n",
       "      <th>name</th>\n",
       "    </tr>\n",
       "  </thead>\n",
       "  <tbody>\n",
       "    <tr>\n",
       "      <th>1</th>\n",
       "      <td>ken</td>\n",
       "      <td>1924</td>\n",
       "      <td>76</td>\n",
       "      <td>2000</td>\n",
       "      <td>0.9620</td>\n",
       "      <td>0.004288</td>\n",
       "      <td>Ken Jennings\\n(gpt-4-turbo)</td>\n",
       "    </tr>\n",
       "    <tr>\n",
       "      <th>0</th>\n",
       "      <td>amy</td>\n",
       "      <td>1856</td>\n",
       "      <td>144</td>\n",
       "      <td>2000</td>\n",
       "      <td>0.9280</td>\n",
       "      <td>0.005788</td>\n",
       "      <td>Amy Schneider\\n(gpt-3.5-fine-tuned)</td>\n",
       "    </tr>\n",
       "    <tr>\n",
       "      <th>5</th>\n",
       "      <td>james</td>\n",
       "      <td>1791</td>\n",
       "      <td>209</td>\n",
       "      <td>2000</td>\n",
       "      <td>0.8955</td>\n",
       "      <td>0.006846</td>\n",
       "      <td>James Holzhauer\\n(gpt-3.5-turbo)</td>\n",
       "    </tr>\n",
       "    <tr>\n",
       "      <th>4</th>\n",
       "      <td>brad</td>\n",
       "      <td>1790</td>\n",
       "      <td>210</td>\n",
       "      <td>2000</td>\n",
       "      <td>0.8950</td>\n",
       "      <td>0.006860</td>\n",
       "      <td>Brad Rutter\\n(llama3:70b)</td>\n",
       "    </tr>\n",
       "    <tr>\n",
       "      <th>6</th>\n",
       "      <td>mattea</td>\n",
       "      <td>1748</td>\n",
       "      <td>252</td>\n",
       "      <td>2000</td>\n",
       "      <td>0.8740</td>\n",
       "      <td>0.007425</td>\n",
       "      <td>Mattea Roach\\n(llama3:8b + RAG)</td>\n",
       "    </tr>\n",
       "    <tr>\n",
       "      <th>2</th>\n",
       "      <td>larissa</td>\n",
       "      <td>1257</td>\n",
       "      <td>743</td>\n",
       "      <td>2000</td>\n",
       "      <td>0.6285</td>\n",
       "      <td>0.010805</td>\n",
       "      <td>Larissa Kelly\\n(llama3:8b)</td>\n",
       "    </tr>\n",
       "    <tr>\n",
       "      <th>3</th>\n",
       "      <td>david</td>\n",
       "      <td>1196</td>\n",
       "      <td>804</td>\n",
       "      <td>2000</td>\n",
       "      <td>0.5980</td>\n",
       "      <td>0.010964</td>\n",
       "      <td>David Madden\\n(llama2:7b)</td>\n",
       "    </tr>\n",
       "  </tbody>\n",
       "</table>\n",
       "</div>"
      ],
      "text/plain": [
       "     label  successes  failures  sample_size  success_rate  standard_error  \\\n",
       "1      ken       1924        76         2000        0.9620        0.004288   \n",
       "0      amy       1856       144         2000        0.9280        0.005788   \n",
       "5    james       1791       209         2000        0.8955        0.006846   \n",
       "4     brad       1790       210         2000        0.8950        0.006860   \n",
       "6   mattea       1748       252         2000        0.8740        0.007425   \n",
       "2  larissa       1257       743         2000        0.6285        0.010805   \n",
       "3    david       1196       804         2000        0.5980        0.010964   \n",
       "\n",
       "                                  name  \n",
       "1          Ken Jennings\\n(gpt-4-turbo)  \n",
       "0  Amy Schneider\\n(gpt-3.5-fine-tuned)  \n",
       "5     James Holzhauer\\n(gpt-3.5-turbo)  \n",
       "4            Brad Rutter\\n(llama3:70b)  \n",
       "6      Mattea Roach\\n(llama3:8b + RAG)  \n",
       "2           Larissa Kelly\\n(llama3:8b)  \n",
       "3            David Madden\\n(llama2:7b)  "
      ]
     },
     "execution_count": 15,
     "metadata": {},
     "output_type": "execute_result"
    }
   ],
   "source": [
    "jeopardy_benchmark_evaluations_df = evaluate_jeopardy_benchmarks(all_benchmark_results_df)\n",
    "jeopardy_benchmark_evaluations_df"
   ]
  },
  {
   "cell_type": "code",
   "execution_count": null,
   "id": "4c9c7466-85fa-4727-805c-9a0a56c006af",
   "metadata": {},
   "outputs": [],
   "source": [
    "all_benchmark_results_df = pd.read_csv(os.path.join(jpt.JEOPARDY_DATA_DIR, r'all_benchmark_results_2024-05-11.csv'))"
   ]
  },
  {
   "cell_type": "code",
   "execution_count": 49,
   "id": "9638a9af-193f-4495-9074-7fe833b10c32",
   "metadata": {},
   "outputs": [
    {
     "data": {
      "text/html": [
       "<div>\n",
       "<style scoped>\n",
       "    .dataframe tbody tr th:only-of-type {\n",
       "        vertical-align: middle;\n",
       "    }\n",
       "\n",
       "    .dataframe tbody tr th {\n",
       "        vertical-align: top;\n",
       "    }\n",
       "\n",
       "    .dataframe thead th {\n",
       "        text-align: right;\n",
       "    }\n",
       "</style>\n",
       "<table border=\"1\" class=\"dataframe\">\n",
       "  <thead>\n",
       "    <tr style=\"text-align: right;\">\n",
       "      <th></th>\n",
       "      <th>label</th>\n",
       "      <th>category</th>\n",
       "      <th>question</th>\n",
       "      <th>value</th>\n",
       "      <th>answer</th>\n",
       "      <th>contestant_answer</th>\n",
       "      <th>judgement</th>\n",
       "      <th>correct</th>\n",
       "    </tr>\n",
       "  </thead>\n",
       "  <tbody>\n",
       "    <tr>\n",
       "      <th>8221</th>\n",
       "      <td>ken</td>\n",
       "      <td>ASTRONOMY ADD A LETTER</td>\n",
       "      <td>'Add this letter to star &amp; get something harsh or grim'</td>\n",
       "      <td>1000.0</td>\n",
       "      <td>K (stark)</td>\n",
       "      <td>What is \"T\"? (Star + T = Start)</td>\n",
       "      <td>Incorrect. The correct response was \"What is K?\" to form the word \"stark.\"</td>\n",
       "      <td>False</td>\n",
       "    </tr>\n",
       "    <tr>\n",
       "      <th>352</th>\n",
       "      <td>ken</td>\n",
       "      <td>\"WIN\"</td>\n",
       "      <td>'Seen here, Marie Barrow is holding this possession of her late brother Clyde'</td>\n",
       "      <td>400.0</td>\n",
       "      <td>Winchester rifle</td>\n",
       "      <td>What is a gun?</td>\n",
       "      <td>Incorrect. The correct response is \"What is a Winchester rifle?\"</td>\n",
       "      <td>False</td>\n",
       "    </tr>\n",
       "    <tr>\n",
       "      <th>317</th>\n",
       "      <td>ken</td>\n",
       "      <td>YOU MOVE, TO FAST</td>\n",
       "      <td>'Move to the adobe dwellings of these southwest Indians &amp; ritual fasters whose name means \"village\"'</td>\n",
       "      <td>600.0</td>\n",
       "      <td>the Pueblos</td>\n",
       "      <td>What are the Hopi?</td>\n",
       "      <td>Incorrect. The correct response is \"Who are the Pueblos?\"</td>\n",
       "      <td>False</td>\n",
       "    </tr>\n",
       "    <tr>\n",
       "      <th>8833</th>\n",
       "      <td>ken</td>\n",
       "      <td>TECH COMPANIES?</td>\n",
       "      <td>'In 2007 President Bush said he'd do this \"to the finish...that's one way to ensure that I am relevant\"'</td>\n",
       "      <td>1000.0</td>\n",
       "      <td>sprint</td>\n",
       "      <td>What is veto?</td>\n",
       "      <td>Incorrect. The correct response was \"What is sprint?\"</td>\n",
       "      <td>False</td>\n",
       "    </tr>\n",
       "    <tr>\n",
       "      <th>8540</th>\n",
       "      <td>ken</td>\n",
       "      <td>A BROAD-BASED MOVEMENT</td>\n",
       "      <td>'The YWCA'</td>\n",
       "      <td>400.0</td>\n",
       "      <td>Young Women\\'s Christian Association</td>\n",
       "      <td>What is feminism?</td>\n",
       "      <td>Incorrect. The correct response was \"What is the Young Women's Christian Association?\"</td>\n",
       "      <td>False</td>\n",
       "    </tr>\n",
       "    <tr>\n",
       "      <th>2548</th>\n",
       "      <td>ken</td>\n",
       "      <td>\"SWEET\" CHARITY</td>\n",
       "      <td>'Villanova's Mendel Medal depicts the school's seal encircled by a wreath of these'</td>\n",
       "      <td>1000.0</td>\n",
       "      <td>sweet peas</td>\n",
       "      <td>What are sugar maples?</td>\n",
       "      <td>Incorrect. The correct response was \"What are sweet peas?\"</td>\n",
       "      <td>False</td>\n",
       "    </tr>\n",
       "    <tr>\n",
       "      <th>8559</th>\n",
       "      <td>ken</td>\n",
       "      <td>AIRLINE AD SLOGANS</td>\n",
       "      <td>'\"We have to earn our wings every day\"'</td>\n",
       "      <td>1600.0</td>\n",
       "      <td>Eastern</td>\n",
       "      <td>What is American Airlines?</td>\n",
       "      <td>Incorrect. The correct response was \"What is Eastern?\"</td>\n",
       "      <td>False</td>\n",
       "    </tr>\n",
       "    <tr>\n",
       "      <th>465</th>\n",
       "      <td>ken</td>\n",
       "      <td>\"FIELD\" OF DREAMS</td>\n",
       "      <td>'Binoculars'</td>\n",
       "      <td>400.0</td>\n",
       "      <td>field glasses</td>\n",
       "      <td>What is a field of vision?</td>\n",
       "      <td>Incorrect. The correct response was \"What are field glasses?\"</td>\n",
       "      <td>False</td>\n",
       "    </tr>\n",
       "    <tr>\n",
       "      <th>2354</th>\n",
       "      <td>ken</td>\n",
       "      <td>SWING TIME!</td>\n",
       "      <td>'This \"Contender\" band has fought with a cola company to keep its name'</td>\n",
       "      <td>200.0</td>\n",
       "      <td>Royal Crown Revue</td>\n",
       "      <td>What is The New York Dolls?</td>\n",
       "      <td>Incorrect. The correct response was \"What is Royal Crown Revue?\"</td>\n",
       "      <td>False</td>\n",
       "    </tr>\n",
       "    <tr>\n",
       "      <th>8693</th>\n",
       "      <td>ken</td>\n",
       "      <td>HIRSCHFELD</td>\n",
       "      <td>'Hirschfeld showed this silent movie comedian in his most famous moment'</td>\n",
       "      <td>500.0</td>\n",
       "      <td>Harold Lloyd</td>\n",
       "      <td>Who is Charlie Chaplin?</td>\n",
       "      <td>Incorrect. The correct response was \"Who is Harold Lloyd?\"</td>\n",
       "      <td>False</td>\n",
       "    </tr>\n",
       "  </tbody>\n",
       "</table>\n",
       "</div>"
      ],
      "text/plain": [
       "     label                category  \\\n",
       "8221   ken  ASTRONOMY ADD A LETTER   \n",
       "352    ken                   \"WIN\"   \n",
       "317    ken       YOU MOVE, TO FAST   \n",
       "8833   ken         TECH COMPANIES?   \n",
       "8540   ken  A BROAD-BASED MOVEMENT   \n",
       "2548   ken         \"SWEET\" CHARITY   \n",
       "8559   ken      AIRLINE AD SLOGANS   \n",
       "465    ken       \"FIELD\" OF DREAMS   \n",
       "2354   ken             SWING TIME!   \n",
       "8693   ken              HIRSCHFELD   \n",
       "\n",
       "                                                                                                      question  \\\n",
       "8221                                                   'Add this letter to star & get something harsh or grim'   \n",
       "352                             'Seen here, Marie Barrow is holding this possession of her late brother Clyde'   \n",
       "317       'Move to the adobe dwellings of these southwest Indians & ritual fasters whose name means \"village\"'   \n",
       "8833  'In 2007 President Bush said he'd do this \"to the finish...that's one way to ensure that I am relevant\"'   \n",
       "8540                                                                                                'The YWCA'   \n",
       "2548                       'Villanova's Mendel Medal depicts the school's seal encircled by a wreath of these'   \n",
       "8559                                                                   '\"We have to earn our wings every day\"'   \n",
       "465                                                                                               'Binoculars'   \n",
       "2354                                   'This \"Contender\" band has fought with a cola company to keep its name'   \n",
       "8693                                  'Hirschfeld showed this silent movie comedian in his most famous moment'   \n",
       "\n",
       "       value                                answer  \\\n",
       "8221  1000.0                             K (stark)   \n",
       "352    400.0                      Winchester rifle   \n",
       "317    600.0                           the Pueblos   \n",
       "8833  1000.0                                sprint   \n",
       "8540   400.0  Young Women\\'s Christian Association   \n",
       "2548  1000.0                            sweet peas   \n",
       "8559  1600.0                               Eastern   \n",
       "465    400.0                         field glasses   \n",
       "2354   200.0                     Royal Crown Revue   \n",
       "8693   500.0                          Harold Lloyd   \n",
       "\n",
       "                    contestant_answer  \\\n",
       "8221  What is \"T\"? (Star + T = Start)   \n",
       "352                    What is a gun?   \n",
       "317                What are the Hopi?   \n",
       "8833                    What is veto?   \n",
       "8540                What is feminism?   \n",
       "2548           What are sugar maples?   \n",
       "8559       What is American Airlines?   \n",
       "465        What is a field of vision?   \n",
       "2354      What is The New York Dolls?   \n",
       "8693          Who is Charlie Chaplin?   \n",
       "\n",
       "                                                                                   judgement  \\\n",
       "8221              Incorrect. The correct response was \"What is K?\" to form the word \"stark.\"   \n",
       "352                         Incorrect. The correct response is \"What is a Winchester rifle?\"   \n",
       "317                                Incorrect. The correct response is \"Who are the Pueblos?\"   \n",
       "8833                                   Incorrect. The correct response was \"What is sprint?\"   \n",
       "8540  Incorrect. The correct response was \"What is the Young Women's Christian Association?\"   \n",
       "2548                              Incorrect. The correct response was \"What are sweet peas?\"   \n",
       "8559                                  Incorrect. The correct response was \"What is Eastern?\"   \n",
       "465                            Incorrect. The correct response was \"What are field glasses?\"   \n",
       "2354                        Incorrect. The correct response was \"What is Royal Crown Revue?\"   \n",
       "8693                              Incorrect. The correct response was \"Who is Harold Lloyd?\"   \n",
       "\n",
       "      correct  \n",
       "8221    False  \n",
       "352     False  \n",
       "317     False  \n",
       "8833    False  \n",
       "8540    False  \n",
       "2548    False  \n",
       "8559    False  \n",
       "465     False  \n",
       "2354    False  \n",
       "8693    False  "
      ]
     },
     "execution_count": 49,
     "metadata": {},
     "output_type": "execute_result"
    }
   ],
   "source": [
    "errors_df = all_benchmark_results_df[ ~all_benchmark_results_df['correct'] & (all_benchmark_results_df['label'] == 'ken') ]\n",
    "errors_df.sample(len(errors_df)).head(10)"
   ]
  },
  {
   "cell_type": "code",
   "execution_count": 40,
   "id": "218a6958-35ee-423e-b2cf-bdf733df61b1",
   "metadata": {},
   "outputs": [
    {
     "data": {
      "image/png": "[encoded data removed]",
      "text/plain": [
       "<Figure size 1048.31x698.087 with 1 Axes>"
      ]
     },
     "metadata": {},
     "output_type": "display_data"
    }
   ],
   "source": [
    "# Plotting the bar chart with error bars\n",
    "jpt.plot_evaluations(jeopardy_benchmark_evaluations_df)"
   ]
  },
  {
   "cell_type": "code",
   "execution_count": 18,
   "id": "6291f30b-19d1-420e-ba85-680b75ed11be",
   "metadata": {},
   "outputs": [
    {
     "name": "stdout",
     "output_type": "stream",
     "text": [
      "wrote C:\\Users\\oloon\\Dropbox\\data\\jeopardy\\jeopardy_benchmark_evaluations_2024-05-11.csv\n",
      "wrote C:\\Users\\oloon\\Dropbox\\data\\jeopardy\\all_benchmark_results_2024-05-11.csv\n"
     ]
    }
   ],
   "source": [
    "timestamp = now(False)\n",
    "eval_filename = os.path.join(jpt.JEOPARDY_DATA_DIR, f'jeopardy_benchmark_evaluations_{timestamp}.csv')\n",
    "print('wrote', eval_filename)\n",
    "jeopardy_benchmark_evaluations_df.to_csv(eval_filename, index=False)\n",
    "\n",
    "benchmark_filename = os.path.join(jpt.JEOPARDY_DATA_DIR, f'all_benchmark_results_{timestamp}.csv')\n",
    "all_benchmark_results_df.to_csv(benchmark_filename, index=False)\n",
    "print('wrote', benchmark_filename)"
   ]
  },
  {
   "cell_type": "code",
   "execution_count": null,
   "id": "79f430cf-3e02-4b8b-9719-63e7ec9c142c",
   "metadata": {},
   "outputs": [],
   "source": []
  }
 ],
 "metadata": {
  "kernelspec": {
   "display_name": "Python 3 (ipykernel)",
   "language": "python",
   "name": "python3"
  },
  "language_info": {
   "codemirror_mode": {
    "name": "ipython",
    "version": 3
   },
   "file_extension": ".py",
   "mimetype": "text/x-python",
   "name": "python",
   "nbconvert_exporter": "python",
   "pygments_lexer": "ipython3",
   "version": "3.12.3"
  }
 },
 "nbformat": 4,
 "nbformat_minor": 5
}
